{
  "nbformat": 4,
  "nbformat_minor": 0,
  "metadata": {
    "colab": {
      "name": "Group 25 - (ML)B.ipynb",
      "provenance": []
    },
    "kernelspec": {
      "name": "python3",
      "display_name": "Python 3"
    }
  },
  "cells": [
    {
      "cell_type": "code",
      "metadata": {
        "id": "YHedAJJyznPt"
      },
      "source": [
        "import numpy as np"
      ],
      "execution_count": null,
      "outputs": []
    },
    {
      "cell_type": "code",
      "metadata": {
        "id": "sHUoPDUM2GcT",
        "outputId": "6b3c0a97-3d07-42bf-8b9b-ba8ee91543f2",
        "colab": {
          "base_uri": "https://localhost:8080/",
          "height": 266
        }
      },
      "source": [
        "import numpy as np\n",
        "import pandas as pd\n",
        "#just playing around ignore all this code haha\n",
        "\n",
        "df = pd.DataFrame({\n",
        "    'Population': [35.467, 63.951, 80.94 , 60.665, 127.061, 64.511, 318.523],\n",
        "    'GDP': [\n",
        "        1785387,\n",
        "        2833687,\n",
        "        3874437,\n",
        "        2167744,\n",
        "        4602367,\n",
        "        2950039,\n",
        "        17348075\n",
        "    ],\n",
        "    'Surface Area': [\n",
        "        9984670,\n",
        "        640679,\n",
        "        357114,\n",
        "        301336,\n",
        "        377930,\n",
        "        242495,\n",
        "        9525067\n",
        "    ],\n",
        "    'HDI': [\n",
        "        0.913,\n",
        "        0.888,\n",
        "        0.916,\n",
        "        0.873,\n",
        "        0.891,\n",
        "        0.907,\n",
        "        0.915\n",
        "    ],\n",
        "    'Continent': [\n",
        "        'America',\n",
        "        'Europe',\n",
        "        'Europe',\n",
        "        'Europe',\n",
        "        'Asia',\n",
        "        'Europe',\n",
        "        'America'\n",
        "    ]\n",
        "}, columns=['Population', 'GDP', 'Surface Area', 'HDI', 'Continent'])\n",
        "\n",
        "df "
      ],
      "execution_count": null,
      "outputs": [
        {
          "output_type": "execute_result",
          "data": {
            "text/html": [
              "<div>\n",
              "<style scoped>\n",
              "    .dataframe tbody tr th:only-of-type {\n",
              "        vertical-align: middle;\n",
              "    }\n",
              "\n",
              "    .dataframe tbody tr th {\n",
              "        vertical-align: top;\n",
              "    }\n",
              "\n",
              "    .dataframe thead th {\n",
              "        text-align: right;\n",
              "    }\n",
              "</style>\n",
              "<table border=\"1\" class=\"dataframe\">\n",
              "  <thead>\n",
              "    <tr style=\"text-align: right;\">\n",
              "      <th></th>\n",
              "      <th>Population</th>\n",
              "      <th>GDP</th>\n",
              "      <th>Surface Area</th>\n",
              "      <th>HDI</th>\n",
              "      <th>Continent</th>\n",
              "    </tr>\n",
              "  </thead>\n",
              "  <tbody>\n",
              "    <tr>\n",
              "      <th>0</th>\n",
              "      <td>35.467</td>\n",
              "      <td>1785387</td>\n",
              "      <td>9984670</td>\n",
              "      <td>0.913</td>\n",
              "      <td>America</td>\n",
              "    </tr>\n",
              "    <tr>\n",
              "      <th>1</th>\n",
              "      <td>63.951</td>\n",
              "      <td>2833687</td>\n",
              "      <td>640679</td>\n",
              "      <td>0.888</td>\n",
              "      <td>Europe</td>\n",
              "    </tr>\n",
              "    <tr>\n",
              "      <th>2</th>\n",
              "      <td>80.940</td>\n",
              "      <td>3874437</td>\n",
              "      <td>357114</td>\n",
              "      <td>0.916</td>\n",
              "      <td>Europe</td>\n",
              "    </tr>\n",
              "    <tr>\n",
              "      <th>3</th>\n",
              "      <td>60.665</td>\n",
              "      <td>2167744</td>\n",
              "      <td>301336</td>\n",
              "      <td>0.873</td>\n",
              "      <td>Europe</td>\n",
              "    </tr>\n",
              "    <tr>\n",
              "      <th>4</th>\n",
              "      <td>127.061</td>\n",
              "      <td>4602367</td>\n",
              "      <td>377930</td>\n",
              "      <td>0.891</td>\n",
              "      <td>Asia</td>\n",
              "    </tr>\n",
              "    <tr>\n",
              "      <th>5</th>\n",
              "      <td>64.511</td>\n",
              "      <td>2950039</td>\n",
              "      <td>242495</td>\n",
              "      <td>0.907</td>\n",
              "      <td>Europe</td>\n",
              "    </tr>\n",
              "    <tr>\n",
              "      <th>6</th>\n",
              "      <td>318.523</td>\n",
              "      <td>17348075</td>\n",
              "      <td>9525067</td>\n",
              "      <td>0.915</td>\n",
              "      <td>America</td>\n",
              "    </tr>\n",
              "  </tbody>\n",
              "</table>\n",
              "</div>"
            ],
            "text/plain": [
              "   Population       GDP  Surface Area    HDI Continent\n",
              "0      35.467   1785387       9984670  0.913   America\n",
              "1      63.951   2833687        640679  0.888    Europe\n",
              "2      80.940   3874437        357114  0.916    Europe\n",
              "3      60.665   2167744        301336  0.873    Europe\n",
              "4     127.061   4602367        377930  0.891      Asia\n",
              "5      64.511   2950039        242495  0.907    Europe\n",
              "6     318.523  17348075       9525067  0.915   America"
            ]
          },
          "metadata": {
            "tags": []
          },
          "execution_count": 36
        }
      ]
    },
    {
      "cell_type": "code",
      "metadata": {
        "id": "kLtQWTMp5qqo"
      },
      "source": [
        ""
      ],
      "execution_count": null,
      "outputs": []
    }
  ]
}