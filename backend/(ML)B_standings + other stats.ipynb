{
 "cells": [
  {
   "cell_type": "markdown",
   "metadata": {},
   "source": [
    "# Make sure to install this API by running => pip install MLB-StatsAPI"
   ]
  },
  {
   "cell_type": "code",
   "execution_count": 56,
   "metadata": {},
   "outputs": [],
   "source": [
    "import statsapi\n",
    "import pandas as pd"
   ]
  },
  {
   "cell_type": "markdown",
   "metadata": {},
   "source": [
    "## Standings"
   ]
  },
  {
   "cell_type": "code",
   "execution_count": 106,
   "metadata": {},
   "outputs": [
    {
     "name": "stdout",
     "output_type": "stream",
     "text": [
      "American League West\n",
      "Rank Team                   W   L   GB  (E#) WC Rank WC GB (E#)\n",
      " 1   Oakland Athletics     36  24   -    -      -      -    -  \n",
      " 2   Houston Astros        29  31  7.0   -      -      -    E  \n",
      " 3   Seattle Mariners      27  33  9.0   E      3     5.0   E  \n",
      " 4   Los Angeles Angels    26  34  10.0  E      5     6.0   E  \n",
      " 5   Texas Rangers         22  38  14.0  E      9    10.0   E  \n",
      "\n",
      "American League East\n",
      "Rank Team                   W   L   GB  (E#) WC Rank WC GB (E#)\n",
      " 1   Tampa Bay Rays        40  20   -    -      -      -    -  \n",
      " 2   New York Yankees      33  27  7.0   -      -      -    E  \n",
      " 3   Toronto Blue Jays     32  28  8.0   E      2      -    -  \n",
      " 4   Baltimore Orioles     25  35  15.0  E      6     7.0   E  \n",
      " 5   Boston Red Sox        24  36  16.0  E      7     8.0   E  \n",
      "\n",
      "American League Central\n",
      "Rank Team                   W   L   GB  (E#) WC Rank WC GB (E#)\n",
      " 1   Minnesota Twins       36  24   -    -      -      -    -  \n",
      " 2   Cleveland Indians     35  25  1.0   -      -      -    E  \n",
      " 3   Chicago White Sox     35  25  1.0   -      1    +3.0   -  \n",
      " 4   Kansas City Royals    26  34  10.0  E      4     6.0   E  \n",
      " 5   Detroit Tigers        23  35  12.0  E      8     8.0   E  \n",
      "\n",
      "National League Central\n",
      "Rank Team                   W   L   GB  (E#) WC Rank WC GB (E#)\n",
      " 1   Chicago Cubs          34  26   -    -      -      -    -  \n",
      " 2   St. Louis Cardinals   30  28  3.0   -      -      -    E  \n",
      " 3   Cincinnati Reds       31  29  3.0   -      1    +2.0   -  \n",
      " 4   Milwaukee Brewers     29  31  5.0   E      2      -    -  \n",
      " 5   Pittsburgh Pirates    19  41  15.0  E      9    10.0   E  \n",
      "\n",
      "National League West\n",
      "Rank Team                   W   L   GB  (E#) WC Rank WC GB (E#)\n",
      " 1   Los Angeles Dodgers   43  17   -    -      -      -    -  \n",
      " 2   San Diego Padres      37  23  6.0   -      -      -    E  \n",
      " 3   San Francisco Giants  29  31  14.0  E      3      -    E  \n",
      " 4   Colorado Rockies      26  34  17.0  E      5     3.0   E  \n",
      " 5   Arizona Diamondbacks  25  35  18.0  E      8     4.0   E  \n",
      "\n",
      "National League East\n",
      "Rank Team                   W   L   GB  (E#) WC Rank WC GB (E#)\n",
      " 1   Atlanta Braves        35  25   -    -      -      -    -  \n",
      " 2   Miami Marlins         31  29  4.0   -      -      -    E  \n",
      " 3   Philadelphia Phillies 28  32  7.0   E      4     1.0   E  \n",
      " 4   New York Mets         26  34  9.0   E      6     3.0   E  \n",
      " 5   Washington Nationals  26  34  9.0   E      7     3.0   E  \n",
      "\n",
      "\n"
     ]
    }
   ],
   "source": [
    "print(statsapi.standings(leagueId=\"103,104\", division=\"all\", include_wildcard=True))"
   ]
  },
  {
   "cell_type": "markdown",
   "metadata": {},
   "source": [
    "# Just some other stats we can include"
   ]
  },
  {
   "cell_type": "markdown",
   "metadata": {},
   "source": [
    "## Batting stats"
   ]
  },
  {
   "cell_type": "markdown",
   "metadata": {},
   "source": [
    "Home run leader"
   ]
  },
  {
   "cell_type": "code",
   "execution_count": 114,
   "metadata": {},
   "outputs": [
    {
     "name": "stdout",
     "output_type": "stream",
     "text": [
      "Rank Name                 Team                    Value\n",
      " 1   Luke Voit            New York Yankees         22  \n",
      " 2   Jose Abreu           Chicago White Sox        19  \n",
      " 3   Marcell Ozuna        Atlanta Braves           18  \n",
      " 4   Jose Ramirez         Cleveland Indians        17  \n",
      " 4   Fernando Tatis Jr.   San Diego Padres         17  \n",
      " 4   Mike Trout           Los Angeles Angels       17  \n",
      "\n"
     ]
    }
   ],
   "source": [
    "print(statsapi.league_leaders('homeruns',season=2020,limit = 5))"
   ]
  },
  {
   "cell_type": "markdown",
   "metadata": {},
   "source": [
    "RBI"
   ]
  },
  {
   "cell_type": "code",
   "execution_count": 101,
   "metadata": {},
   "outputs": [
    {
     "name": "stdout",
     "output_type": "stream",
     "text": [
      "Rank Name                 Team                    Value\n",
      " 1   Jose Abreu           Chicago White Sox        60  \n",
      " 2   Marcell Ozuna        Atlanta Braves           56  \n",
      " 3   Freddie Freeman      Atlanta Braves           53  \n",
      " 4   Luke Voit            New York Yankees         52  \n",
      " 5   Manny Machado        San Diego Padres         47  \n",
      "\n"
     ]
    }
   ],
   "source": [
    "print(statsapi.league_leaders('rbi', limit = 5))"
   ]
  },
  {
   "cell_type": "markdown",
   "metadata": {},
   "source": [
    "Batting average"
   ]
  },
  {
   "cell_type": "code",
   "execution_count": 69,
   "metadata": {},
   "outputs": [
    {
     "name": "stdout",
     "output_type": "stream",
     "text": [
      "Rank Name                 Team                    Value\n",
      " 1   DJ LeMahieu          New York Yankees        .364 \n",
      " 2   Juan Soto            Washington Nationals    .351 \n",
      " 3   Freddie Freeman      Atlanta Braves          .341 \n",
      " 4   Marcell Ozuna        Atlanta Braves          .338 \n",
      " 5   Trea Turner          Washington Nationals    .335 \n",
      "\n"
     ]
    }
   ],
   "source": [
    "print(statsapi.league_leaders('Battingaverage', limit = 5))"
   ]
  },
  {
   "cell_type": "markdown",
   "metadata": {},
   "source": [
    "Hits"
   ]
  },
  {
   "cell_type": "code",
   "execution_count": 102,
   "metadata": {},
   "outputs": [
    {
     "name": "stdout",
     "output_type": "stream",
     "text": [
      "Rank Name                 Team                    Value\n",
      " 1   Trea Turner          Washington Nationals     78  \n",
      " 2   Marcell Ozuna        Atlanta Braves           77  \n",
      " 3   Jose Abreu           Chicago White Sox        76  \n",
      " 4   Freddie Freeman      Atlanta Braves           73  \n",
      " 5   DJ LeMahieu          New York Yankees         71  \n",
      "\n"
     ]
    }
   ],
   "source": [
    "print(statsapi.league_leaders('hits', limit = 5))"
   ]
  },
  {
   "cell_type": "markdown",
   "metadata": {},
   "source": [
    "## Pitching stats"
   ]
  },
  {
   "cell_type": "markdown",
   "metadata": {},
   "source": [
    "Wins"
   ]
  },
  {
   "cell_type": "code",
   "execution_count": 80,
   "metadata": {},
   "outputs": [
    {
     "name": "stdout",
     "output_type": "stream",
     "text": [
      "Rank Name                 Team                    Value\n",
      " 1   Shane Bieber         Cleveland Indians         8  \n",
      " 1   Yu Darvish           Chicago Cubs              8  \n",
      " 3   Gerrit Cole          New York Yankees          7  \n",
      " 3   Zach Davies          San Diego Padres          7  \n",
      " 3   Max Fried            Atlanta Braves            7  \n",
      " 3   Marco Gonzales       Seattle Mariners          7  \n",
      "\n"
     ]
    }
   ],
   "source": [
    "print(statsapi.league_leaders('wins', limit = 5))"
   ]
  },
  {
   "cell_type": "markdown",
   "metadata": {},
   "source": [
    "Earned run average"
   ]
  },
  {
   "cell_type": "code",
   "execution_count": 73,
   "metadata": {},
   "outputs": [
    {
     "name": "stdout",
     "output_type": "stream",
     "text": [
      "Rank Name                 Team                    Value\n",
      " 1   Shane Bieber         Cleveland Indians       1.63 \n",
      " 2   Trevor Bauer         Cincinnati Reds         1.73 \n",
      " 3   Dallas Keuchel       Chicago White Sox       1.99 \n",
      " 4   Yu Darvish           Chicago Cubs            2.01 \n",
      " 5   Dinelson Lamet       San Diego Padres        2.09 \n",
      "\n"
     ]
    }
   ],
   "source": [
    "print(statsapi.league_leaders('ERA', limit = 5))"
   ]
  },
  {
   "cell_type": "markdown",
   "metadata": {},
   "source": [
    "Strikouts"
   ]
  },
  {
   "cell_type": "code",
   "execution_count": 116,
   "metadata": {},
   "outputs": [
    {
     "name": "stdout",
     "output_type": "stream",
     "text": [
      "Rank Name                 Team                    Value\n",
      " 1   Shane Bieber         Cleveland Indians        122 \n",
      " 2   Jacob deGrom         New York Mets            104 \n",
      " 3   Trevor Bauer         Cincinnati Reds          100 \n",
      " 4   Lucas Giolito        Chicago White Sox        97  \n",
      " 5   Aaron Nola           Philadelphia Phillies    96  \n",
      "\n"
     ]
    }
   ],
   "source": [
    "print(statsapi.league_leaders('Strikeouts',statGroup='pitching', limit = 5))"
   ]
  },
  {
   "cell_type": "markdown",
   "metadata": {},
   "source": [
    "Saves"
   ]
  },
  {
   "cell_type": "code",
   "execution_count": 81,
   "metadata": {},
   "outputs": [
    {
     "name": "stdout",
     "output_type": "stream",
     "text": [
      "Rank Name                 Team                    Value\n",
      " 1   Brad Hand            Cleveland Indians        16  \n",
      " 2   Liam Hendriks        Oakland Athletics        14  \n",
      " 3   Josh Hader           Milwaukee Brewers        13  \n",
      " 4   Alex Colome          Chicago White Sox        12  \n",
      " 4   Brandon Kintzler     Miami Marlins            12  \n",
      " 4   Ryan Pressly         Houston Astros           12  \n",
      "\n"
     ]
    }
   ],
   "source": [
    "print(statsapi.league_leaders('Saves', limit = 5))"
   ]
  },
  {
   "cell_type": "markdown",
   "metadata": {},
   "source": [
    "# Ignore everything from here on"
   ]
  },
  {
   "cell_type": "code",
   "execution_count": 113,
   "metadata": {},
   "outputs": [
    {
     "data": {
      "text/html": [
       "<div>\n",
       "<style scoped>\n",
       "    .dataframe tbody tr th:only-of-type {\n",
       "        vertical-align: middle;\n",
       "    }\n",
       "\n",
       "    .dataframe tbody tr th {\n",
       "        vertical-align: top;\n",
       "    }\n",
       "\n",
       "    .dataframe thead th {\n",
       "        text-align: right;\n",
       "    }\n",
       "</style>\n",
       "<table border=\"1\" class=\"dataframe\">\n",
       "  <thead>\n",
       "    <tr style=\"text-align: right;\">\n",
       "      <th></th>\n",
       "      <th>200</th>\n",
       "      <th>201</th>\n",
       "      <th>202</th>\n",
       "      <th>205</th>\n",
       "      <th>203</th>\n",
       "      <th>204</th>\n",
       "    </tr>\n",
       "  </thead>\n",
       "  <tbody>\n",
       "    <tr>\n",
       "      <th>div_name</th>\n",
       "      <td>American League West</td>\n",
       "      <td>American League East</td>\n",
       "      <td>American League Central</td>\n",
       "      <td>National League Central</td>\n",
       "      <td>National League West</td>\n",
       "      <td>National League East</td>\n",
       "    </tr>\n",
       "    <tr>\n",
       "      <th>teams</th>\n",
       "      <td>[{'name': 'Oakland Athletics', 'div_rank': '1'...</td>\n",
       "      <td>[{'name': 'Tampa Bay Rays', 'div_rank': '1', '...</td>\n",
       "      <td>[{'name': 'Minnesota Twins', 'div_rank': '1', ...</td>\n",
       "      <td>[{'name': 'Chicago Cubs', 'div_rank': '1', 'w'...</td>\n",
       "      <td>[{'name': 'Los Angeles Dodgers', 'div_rank': '...</td>\n",
       "      <td>[{'name': 'Atlanta Braves', 'div_rank': '1', '...</td>\n",
       "    </tr>\n",
       "  </tbody>\n",
       "</table>\n",
       "</div>"
      ],
      "text/plain": [
       "                                                        200  \\\n",
       "div_name                               American League West   \n",
       "teams     [{'name': 'Oakland Athletics', 'div_rank': '1'...   \n",
       "\n",
       "                                                        201  \\\n",
       "div_name                               American League East   \n",
       "teams     [{'name': 'Tampa Bay Rays', 'div_rank': '1', '...   \n",
       "\n",
       "                                                        202  \\\n",
       "div_name                            American League Central   \n",
       "teams     [{'name': 'Minnesota Twins', 'div_rank': '1', ...   \n",
       "\n",
       "                                                        205  \\\n",
       "div_name                            National League Central   \n",
       "teams     [{'name': 'Chicago Cubs', 'div_rank': '1', 'w'...   \n",
       "\n",
       "                                                        203  \\\n",
       "div_name                               National League West   \n",
       "teams     [{'name': 'Los Angeles Dodgers', 'div_rank': '...   \n",
       "\n",
       "                                                        204  \n",
       "div_name                               National League East  \n",
       "teams     [{'name': 'Atlanta Braves', 'div_rank': '1', '...  "
      ]
     },
     "execution_count": 113,
     "metadata": {},
     "output_type": "execute_result"
    }
   ],
   "source": [
    "##print(statsapi.roster(147))\n",
    "##data = statsapi.standings_data(leagueId=\"103,104\", division=\"all\", include_wildcard=True)\n",
    "##pd.DataFrame(data)"
   ]
  },
  {
   "cell_type": "code",
   "execution_count": 130,
   "metadata": {},
   "outputs": [
    {
     "name": "stdout",
     "output_type": "stream",
     "text": [
      "Rank Name                 Team                    Value\n",
      " 1   Jose Abreu           Chicago White Sox        148 \n",
      " 2   Marcell Ozuna        Atlanta Braves           145 \n",
      " 3   Freddie Freeman      Atlanta Braves           137 \n",
      " 3   Trea Turner          Washington Nationals     137 \n",
      " 5   Jose Ramirez         Cleveland Indians        133 \n",
      "\n"
     ]
    }
   ],
   "source": [
    "#print(statsapi.league_leaders('onbasepercentage', limit = 5))\n",
    "#print(statsapi.league_leaders('ops', limit = 5))\n",
    "#print(statsapi.league_leaders('slg', limit = 5))\n",
    "print(statsapi.league_leaders('totalbases', limit = 5))"
   ]
  },
  {
   "cell_type": "code",
   "execution_count": null,
   "metadata": {},
   "outputs": [],
   "source": []
  }
 ],
 "metadata": {
  "kernelspec": {
   "display_name": "Python 3",
   "language": "python",
   "name": "python3"
  },
  "language_info": {
   "codemirror_mode": {
    "name": "ipython",
    "version": 3
   },
   "file_extension": ".py",
   "mimetype": "text/x-python",
   "name": "python",
   "nbconvert_exporter": "python",
   "pygments_lexer": "ipython3",
   "version": "3.7.7"
  }
 },
 "nbformat": 4,
 "nbformat_minor": 4
}
