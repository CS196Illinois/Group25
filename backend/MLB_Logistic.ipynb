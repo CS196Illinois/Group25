{
 "cells": [
  {
   "cell_type": "code",
   "execution_count": 1,
   "metadata": {},
   "outputs": [
    {
     "name": "stdout",
     "output_type": "stream",
     "text": [
      "Requirement already satisfied: mlbgame in c:\\users\\ayanm\\anaconda3\\lib\\site-packages (2.5.0)\n",
      "Requirement already satisfied: lxml in c:\\users\\ayanm\\anaconda3\\lib\\site-packages (from mlbgame) (4.5.2)\n",
      "Note: you may need to restart the kernel to use updated packages.\n"
     ]
    }
   ],
   "source": [
    "pip install mlbgame"
   ]
  },
  {
   "cell_type": "code",
   "execution_count": 18,
   "metadata": {},
   "outputs": [],
   "source": [
    "import mlbgame #import MLB API used for passing scores for prediction\n",
    "import pandas as pd \n",
    "import matplotlib.pyplot as plt\n",
    "import numpy as np\n",
    "import matplotlib.pyplot as plt\n",
    "import seaborn as sns\n",
    "from sklearn.model_selection import train_test_split #used for splitting data into training and testing \n",
    "from sklearn.linear_model import LogisticRegression\n",
    "from sklearn import metrics\n",
    "import pickle\n",
    "import urllib\n",
    "import requests\n",
    "from bs4 import BeautifulSoup\n",
    "import os"
   ]
  },
  {
   "cell_type": "code",
   "execution_count": 3,
   "metadata": {},
   "outputs": [],
   "source": [
    "# Setting tokens for team batting stats on ESPN database\n",
    "teamBatting = {\n",
    "    \"New York Mets\": 0,\n",
    "    \"Atlanta Braves\": 1,\n",
    "    \"Boston Red Sox\": 2,\n",
    "    \"Washington Nationals\": 3,\n",
    "    \"San Francisco Giants\": 4,\n",
    "    \"Chicago White Sox\": 5,\n",
    "    \"Baltimore Orioles\": 6,\n",
    "    \"Colorado Rockies\": 7, \n",
    "    \"Philadelphia Phillies\": 8,\n",
    "    \"San Diego Padres\": 9,\n",
    "    \"Los Angeles Dodgers\": 10,\n",
    "    \"Toronto Blue Jays\": 11,\n",
    "    \"Los Angeles Angels\": 12,\n",
    "    \"New York Yankees\": 13,\n",
    "    \"Detroit Tigers\": 14,\n",
    "    \"Kansas City Royals\": 15,\n",
    "    \"Miami Marlins\": 16,\n",
    "    \"Minnesota Twins\": 17,\n",
    "    \"Arizona Diamondbacks\": 18,\n",
    "    \"Houston Astros\": 19,\n",
    "    \"Tampa Bay Rays\": 20,\n",
    "    \"St. Louis Cardinals\": 21,\n",
    "    \"Cleveland Indians\": 22, \n",
    "    \"Seattle Mariners\": 23,\n",
    "    \"Oakland Athletics\": 24,\n",
    "    \"Milwaukee Brewers\": 25,\n",
    "    \"Chicago Cubs\": 26,\n",
    "    \"Pittsburgh Pirates\": 27,\n",
    "    \"Texas Rangers\": 28,\n",
    "    \"Cincinnati Reds\": 29,\n",
    "}\n",
    "# Setting tokens for team pitching stats on ESPN database\n",
    "teamPitching = {\n",
    "    \"Los Angeles Dodgers\": 0,\n",
    "    \"Cleveland Indians\": 1,\n",
    "    \"Tampa Bay Rays\": 2,\n",
    "    \"Minnesota Twins\": 3,\n",
    "    \"Oakland Athletics\": 4,\n",
    "    \"Chicago White Sox\": 5,\n",
    "    \"Cincinnati Reds\": 6,\n",
    "    \"San Diego Padres\": 7,\n",
    "    \"St. Louis Cardinals\": 8,\n",
    "    \"Chicago Cubs\": 9,\n",
    "    \"Milwaukee Brewers\": 10,\n",
    "    \"Kansas City Royals\": 11,\n",
    "    \"Houston Astros\": 12,\n",
    "    \"New York Yankees\": 13,\n",
    "    \"Atlanta Braves\": 14,\n",
    "    \"Baltimore Orioles\": 15,\n",
    "    \"Toronto Blue Jays\": 16,\n",
    "    \"San Francisco Giants\": 17, \n",
    "    \"Pittsburgh Pirates\": 18, \n",
    "    \"Arizona Diamondbacks\": 19,\n",
    "    \"Miami Marlins\": 20,\n",
    "    \"New York Mets\": 21, \n",
    "    \"Seattle Mariners\": 22,\n",
    "    \"Texas Rangers\": 23,\n",
    "    \"Los Angeles Angels\": 24,\n",
    "    \"Washington Nationals\": 25,\n",
    "    \"Philadelphia Phillies\": 26,\n",
    "    \"Boston Red Sox\": 27,\n",
    "    \"Colorado Rockies\": 28,\n",
    "    \"Detroit Tigers\": 29,\n",
    "}"
   ]
  },
  {
   "cell_type": "code",
   "execution_count": 4,
   "metadata": {
    "scrolled": true
   },
   "outputs": [
    {
     "name": "stdout",
     "output_type": "stream",
     "text": [
      "                  away_team             home_team  Delta (ERA)  Delta (RBI)  \\\n",
      "0             New York Mets    Kansas City Royals         0.64           -9   \n",
      "1     Philadelphia Phillies       Cincinnati Reds         0.28          104   \n",
      "2           Minnesota Twins     Baltimore Orioles        -0.86           20   \n",
      "3      Washington Nationals        Atlanta Braves         1.00         -120   \n",
      "4          Colorado Rockies  Arizona Diamondbacks         0.18          -96   \n",
      "...                     ...                   ...          ...          ...   \n",
      "2458      Toronto Blue Jays        Tampa Bay Rays         0.42          -81   \n",
      "2459    St. Louis Cardinals    Pittsburgh Pirates         0.13          -49   \n",
      "2460   San Francisco Giants     Milwaukee Brewers         0.43          -34   \n",
      "2461         Detroit Tigers         Miami Marlins        -0.19          -93   \n",
      "2462         Boston Red Sox     Cleveland Indians        -0.16         -103   \n",
      "\n",
      "      Delta (SLG)  Delta (AVG)  home_team_win  \n",
      "0          -0.017        0.015              1  \n",
      "1           0.024        0.016              1  \n",
      "2           0.022        0.005              1  \n",
      "3          -0.042       -0.001              0  \n",
      "4          -0.025       -0.014              0  \n",
      "...           ...          ...            ...  \n",
      "2458        0.000       -0.005              0  \n",
      "2459       -0.040        0.002              1  \n",
      "2460        0.009       -0.014              1  \n",
      "2461       -0.044       -0.004              0  \n",
      "2462       -0.031       -0.020              1  \n",
      "\n",
      "[2463 rows x 7 columns]\n"
     ]
    }
   ],
   "source": [
    "# load dataset\n",
    "data = pd.read_csv(\"baseballData.csv\")\n",
    "print(data)"
   ]
  },
  {
   "cell_type": "code",
   "execution_count": 5,
   "metadata": {},
   "outputs": [],
   "source": [
    "#split dataset into independent and dependent variables\n",
    "independent_cols = ['Delta (ERA)', 'Delta (RBI)', 'Delta (SLG)', 'Delta (AVG)']\n",
    "X = data[independent_cols] # independent variables\n",
    "y = data.home_team_win # Dependent variable"
   ]
  },
  {
   "cell_type": "code",
   "execution_count": 31,
   "metadata": {},
   "outputs": [],
   "source": [
    "# split X and y into training and testing sets\n",
    "\n",
    "X_train,X_test,y_train,y_test=train_test_split(X,y,test_size=0.1)"
   ]
  },
  {
   "cell_type": "code",
   "execution_count": 32,
   "metadata": {},
   "outputs": [],
   "source": [
    "# instantiate the model (using the default parameters)\n",
    "logreg = LogisticRegression()\n",
    "\n",
    "# fit the model with data from the training set \n",
    "finalPrediction = logreg.fit(X_train,y_train)"
   ]
  },
  {
   "cell_type": "code",
   "execution_count": 33,
   "metadata": {},
   "outputs": [],
   "source": [
    "saved_model = {\n",
    "    'regression': logreg\n",
    "}\n",
    "pickle.dump(saved_model, open( 'models' + \".p\", \"wb\" ))"
   ]
  },
  {
   "cell_type": "code",
   "execution_count": 9,
   "metadata": {},
   "outputs": [
    {
     "data": {
      "text/plain": [
       "Text(0.5, 257.44, 'Predicted label')"
      ]
     },
     "execution_count": 9,
     "metadata": {},
     "output_type": "execute_result"
    },
    {
     "data": {
      "image/png": "[encoded data removed]",
      "text/plain": [
       "<Figure size 432x288 with 2 Axes>"
      ]
     },
     "metadata": {
      "needs_background": "light"
     },
     "output_type": "display_data"
    }
   ],
   "source": [
    "# prediction done by using the X_test data set \n",
    "y_pred=logreg.predict(X_test)\n",
    "\n",
    "# confusion matrix used to test the accuracy precision of the prediction \n",
    "cnf_matrix = metrics.confusion_matrix(y_test, y_pred)\n",
    "\n",
    "# set up the matplot\n",
    "%matplotlib inline\n",
    "class_names=[0,1] # name  of classes\n",
    "fig, ax = plt.subplots()\n",
    "tick_marks = np.arange(len(class_names))\n",
    "plt.xticks(tick_marks, class_names)\n",
    "plt.yticks(tick_marks, class_names)\n",
    "\n",
    "# create heatmap for data set \n",
    "sns.heatmap(pd.DataFrame(cnf_matrix), annot=True, cmap=\"YlGnBu\" ,fmt='g')\n",
    "ax.xaxis.set_label_position(\"top\")\n",
    "plt.tight_layout()\n",
    "plt.title('Confusion matrix', y=1.1)\n",
    "plt.ylabel('Actual label')\n",
    "plt.xlabel('Predicted label')"
   ]
  },
  {
   "cell_type": "code",
   "execution_count": 10,
   "metadata": {},
   "outputs": [
    {
     "name": "stdout",
     "output_type": "stream",
     "text": [
      "Accuracy: 56.275%\n",
      "Precision: 59.859%\n",
      "Recall: 62.500%\n"
     ]
    }
   ],
   "source": [
    "print(\"Accuracy:\",\"{:.3%}\".format(metrics.accuracy_score(y_test, y_pred)))\n",
    "print(\"Precision:\",\"{:.3%}\".format(metrics.precision_score(y_test, y_pred)))\n",
    "print(\"Recall:\",\"{:.3%}\".format(metrics.recall_score(y_test, y_pred)))"
   ]
  },
  {
   "cell_type": "code",
   "execution_count": 11,
   "metadata": {},
   "outputs": [],
   "source": [
    "def measure_accuracy(independent_column):\n",
    "    X = data[independent_column] # independent variables\n",
    "    y = data.home_team_win # Dependent variable\n",
    "    \n",
    "    # split X and y into training and testing sets\n",
    "    X_train,X_test,y_train,y_test=train_test_split(X,y,test_size=0.20)\n",
    "    \n",
    "    # instantiate the model (using the default parameters)\n",
    "    logreg = LogisticRegression()\n",
    "\n",
    "    # fit the model with data from the training set \n",
    "    finalPrediction = logreg.fit(X_train,y_train)\n",
    "\n",
    "    # prediction done by using the X_test data set \n",
    "    y_pred=logreg.predict(X_test)\n",
    "    \n",
    "    print(independent_column[0])\n",
    "    print(\"Accuracy:\",\"{:.3%}\".format(metrics.accuracy_score(y_test, y_pred)))\n",
    "    print(\"Precision:\",\"{:.3%}\".format(metrics.precision_score(y_test, y_pred)))\n",
    "    print(\"Recall:\",\"{:.3%}\".format(metrics.recall_score(y_test, y_pred)))\n",
    "    print()"
   ]
  },
  {
   "cell_type": "code",
   "execution_count": 12,
   "metadata": {},
   "outputs": [
    {
     "name": "stdout",
     "output_type": "stream",
     "text": [
      "Delta (ERA)\n",
      "Accuracy: 55.781%\n",
      "Precision: 56.119%\n",
      "Recall: 72.587%\n",
      "\n",
      "Delta (RBI)\n",
      "Accuracy: 52.941%\n",
      "Precision: 55.522%\n",
      "Recall: 69.145%\n",
      "\n",
      "Delta (SLG)\n",
      "Accuracy: 54.767%\n",
      "Precision: 55.031%\n",
      "Recall: 98.529%\n",
      "\n",
      "Delta (AVG)\n",
      "Accuracy: 54.564%\n",
      "Precision: 54.564%\n",
      "Recall: 100.000%\n",
      "\n"
     ]
    }
   ],
   "source": [
    "measure_accuracy(['Delta (ERA)'])\n",
    "measure_accuracy(['Delta (RBI)'])\n",
    "measure_accuracy(['Delta (SLG)'])\n",
    "measure_accuracy(['Delta (AVG)'])"
   ]
  },
  {
   "cell_type": "code",
   "execution_count": 13,
   "metadata": {},
   "outputs": [],
   "source": [
    "# sets up functions to acquire team pitching stats \n",
    "url_pitching = \"https://www.espn.com/mlb/stats/team/_/view/pitching\"\n",
    "page = requests.get(url_pitching)\n",
    "soup = BeautifulSoup(page.text, 'html.parser')\n",
    "tablePRows = soup.find_all('tr', attrs = {'class': \"Table__TR Table__TR--sm Table__even\"})\n",
    "def findPStats(index): \n",
    "    count = 0\n",
    "    teams = []\n",
    "    stats = []\n",
    "    output = []\n",
    "    for row in tablePRows: \n",
    "        if count == (index + 30): \n",
    "            teams.append(row)\n",
    "            for team in teams: \n",
    "                stats.append(team.find_all('td'))\n",
    "                for stat in stats:\n",
    "                    output.append(float(stat[3].text))\n",
    "                    return output\n",
    "        count = count + 1\n",
    "    count = 0\n",
    "def gatherPitchingStats(homeTeam, awayTeam): \n",
    "    homeIndex = teamPitching.get(homeTeam)\n",
    "    awayIndex = teamPitching.get(awayTeam)\n",
    "    finalStats = []\n",
    "    finalStats.append(findPStats(homeIndex)[0] - findPStats(awayIndex)[0])\n",
    "    return (finalStats)\n",
    "\n",
    "# sets up functions to acquire team batting stats \n",
    "url_batting = \"https://www.espn.com/mlb/stats/team\"\n",
    "page = requests.get(url_batting)\n",
    "soup = BeautifulSoup(page.text, 'html.parser')\n",
    "tableBRows = soup.find_all('tr', attrs = {'class': \"Table__TR Table__TR--sm Table__even\"})\n",
    "def findBStats(index): \n",
    "    count = 0\n",
    "    teams = []\n",
    "    stats = []\n",
    "    batting = []\n",
    "    for row in tableBRows: \n",
    "        if count == (index + 30): \n",
    "            teams.append(row)\n",
    "            for team in teams: \n",
    "                stats.append(team.find_all('td'))\n",
    "                for stat in stats:\n",
    "                    batting.append(float(stat[7].text))\n",
    "                    batting.append(float(stat[14].text))\n",
    "                    batting.append(float(stat[12].text))\n",
    "                    return batting\n",
    "        count = count + 1\n",
    "    count = 0\n",
    "def gatherBattingStats(homeTeam, awayTeam): \n",
    "    homeIndex = teamBatting.get(homeTeam)\n",
    "    awayIndex = teamBatting.get(awayTeam)\n",
    "    finalStats = []\n",
    "    finalStats.append(findBStats(homeIndex)[0] - findBStats(awayIndex)[0])\n",
    "    finalStats.append(findBStats(homeIndex)[1] - findBStats(awayIndex)[1])\n",
    "    finalStats.append(findBStats(homeIndex)[2] - findBStats(awayIndex)[2])\n",
    "    return (finalStats)"
   ]
  },
  {
   "cell_type": "code",
   "execution_count": 14,
   "metadata": {},
   "outputs": [],
   "source": [
    "# main function to gather stats of the inputted teams\n",
    "def gatherStats(homeTeam, awayTeam): \n",
    "    output = []\n",
    "    output.append(gatherPitchingStats(homeTeam, awayTeam)[0])\n",
    "    output.append(gatherBattingStats(homeTeam, awayTeam)[0])\n",
    "    output.append(gatherBattingStats(homeTeam, awayTeam)[1])\n",
    "    output.append(gatherBattingStats(homeTeam, awayTeam)[2])\n",
    "    return output"
   ]
  },
  {
   "cell_type": "code",
   "execution_count": 15,
   "metadata": {},
   "outputs": [],
   "source": [
    "##call the API to get stats for both teams needed to predict game\n",
    "def predict_game(homeTeam, awayTeam):\n",
    "    inputStats = gatherStats(homeTeam, awayTeam)\n",
    "    team_stats = np.array([inputStats[0], inputStats[1], inputStats[2], inputStats[3]]).reshape(1, 4)\n",
    "    prediction = logreg.predict(team_stats)\n",
    "    result = prediction[0]\n",
    "    if (result == 1):\n",
    "        return (homeTeam + \" win\")\n",
    "    else:\n",
    "        return (awayTeam + \" win\")"
   ]
  },
  {
   "cell_type": "code",
   "execution_count": 28,
   "metadata": {},
   "outputs": [],
   "source": [
    "def predict_with_pickle(homeTeam, awayTeam):\n",
    "    # Loads logistic regression model from pickle file\n",
    "    with open('models.p', 'rb') as pickled:\n",
    "        data = pickle.load(pickled)\n",
    "        print('Entered pickled file:')\n",
    "    pickled_logreg = data['regression']\n",
    "    \n",
    "    inputStats = gatherStats(homeTeam, awayTeam)\n",
    "    team_stats = np.array([inputStats[0], inputStats[1], inputStats[2], inputStats[3]]).reshape(1, 4)\n",
    "    prediction = pickled_logreg.predict(team_stats)\n",
    "    result = prediction[0]\n",
    "    if (result == 1):\n",
    "        return (homeTeam + \" win\")\n",
    "    else:\n",
    "        return (awayTeam + \" win\")"
   ]
  },
  {
   "cell_type": "code",
   "execution_count": 17,
   "metadata": {},
   "outputs": [
    {
     "name": "stdout",
     "output_type": "stream",
     "text": [
      "Atlanta Braves win\n",
      "New York Yankees win\n",
      "Los Angeles Dodgers win\n",
      "Minnesota Twins win\n",
      "San Diego Padres win\n"
     ]
    }
   ],
   "source": [
    "print(predict_game(\"Atlanta Braves\", \"Houston Astros\"))\n",
    "print(predict_game(\"New York Yankees\", \"Boston Red Sox\"))\n",
    "print(predict_game(\"Los Angeles Dodgers\", \"Toronto Blue Jays\"))\n",
    "print(predict_game(\"Minnesota Twins\", \"Pittsburgh Pirates\"))\n",
    "print(predict_game(\"New York Mets\", \"San Diego Padres\"))"
   ]
  },
  {
   "cell_type": "code",
   "execution_count": 35,
   "metadata": {},
   "outputs": [
    {
     "name": "stdout",
     "output_type": "stream",
     "text": [
      "Entered pickled file:\n",
      "Atlanta Braves win\n",
      "Entered pickled file:\n",
      "New York Yankees win\n",
      "Entered pickled file:\n",
      "Los Angeles Dodgers win\n",
      "Entered pickled file:\n",
      "Minnesota Twins win\n",
      "Entered pickled file:\n",
      "San Diego Padres win\n"
     ]
    }
   ],
   "source": [
    "print(predict_with_pickle(\"Atlanta Braves\", \"Houston Astros\"))\n",
    "print(predict_with_pickle(\"New York Yankees\", \"Boston Red Sox\"))\n",
    "print(predict_with_pickle(\"Los Angeles Dodgers\", \"Toronto Blue Jays\"))\n",
    "print(predict_with_pickle(\"Minnesota Twins\", \"Pittsburgh Pirates\"))\n",
    "print(predict_with_pickle(\"New York Mets\", \"San Diego Padres\"))"
   ]
  }
 ],
 "metadata": {
  "kernelspec": {
   "display_name": "Python 3",
   "language": "python",
   "name": "python3"
  },
  "language_info": {
   "codemirror_mode": {
    "name": "ipython",
    "version": 3
   },
   "file_extension": ".py",
   "mimetype": "text/x-python",
   "name": "python",
   "nbconvert_exporter": "python",
   "pygments_lexer": "ipython3",
   "version": "3.8.3"
  }
 },
 "nbformat": 4,
 "nbformat_minor": 4
}
