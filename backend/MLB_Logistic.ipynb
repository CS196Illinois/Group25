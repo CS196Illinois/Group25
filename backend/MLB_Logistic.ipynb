{
 "cells": [
  {
   "cell_type": "code",
   "execution_count": 1,
   "metadata": {},
   "outputs": [
    {
     "name": "stdout",
     "output_type": "stream",
     "text": [
      "Requirement already satisfied: mlbgame in c:\\users\\ayanm\\anaconda3\\lib\\site-packages (2.5.0)\n",
      "Requirement already satisfied: lxml in c:\\users\\ayanm\\anaconda3\\lib\\site-packages (from mlbgame) (4.5.2)\n",
      "Note: you may need to restart the kernel to use updated packages.\n"
     ]
    }
   ],
   "source": [
    "pip install mlbgame"
   ]
  },
  {
   "cell_type": "code",
   "execution_count": 2,
   "metadata": {},
   "outputs": [],
   "source": [
    "import mlbgame #import MLB API used for passing scores for prediction\n",
    "import pandas as pd \n",
    "import matplotlib.pyplot as plt\n",
    "import numpy as np\n",
    "import matplotlib.pyplot as plt\n",
    "import seaborn as sns\n",
    "from sklearn.model_selection import train_test_split #used for splitting data into training and testing \n",
    "from sklearn.linear_model import LogisticRegression\n",
    "from sklearn import metrics\n",
    "import pickle"
   ]
  },
  {
   "cell_type": "code",
   "execution_count": 3,
   "metadata": {
    "scrolled": true
   },
   "outputs": [
    {
     "name": "stdout",
     "output_type": "stream",
     "text": [
      "                  away_team             home_team  Delta (ERA)  Delta (RBI)  \\\n",
      "0             New York Mets    Kansas City Royals         0.64           -9   \n",
      "1     Philadelphia Phillies       Cincinnati Reds         0.28          104   \n",
      "2           Minnesota Twins     Baltimore Orioles        -0.86           20   \n",
      "3      Washington Nationals        Atlanta Braves         1.00         -120   \n",
      "4          Colorado Rockies  Arizona Diamondbacks         0.18          -96   \n",
      "...                     ...                   ...          ...          ...   \n",
      "2458      Toronto Blue Jays        Tampa Bay Rays         0.42          -81   \n",
      "2459    St. Louis Cardinals    Pittsburgh Pirates         0.13          -49   \n",
      "2460   San Francisco Giants     Milwaukee Brewers         0.43          -34   \n",
      "2461         Detroit Tigers         Miami Marlins        -0.19          -93   \n",
      "2462         Boston Red Sox     Cleveland Indians        -0.16         -103   \n",
      "\n",
      "      Delta (SLG)  Delta (AVG)  home_team_win  \n",
      "0          -0.017        0.015              1  \n",
      "1           0.024        0.016              1  \n",
      "2           0.022        0.005              1  \n",
      "3          -0.042       -0.001              0  \n",
      "4          -0.025       -0.014              0  \n",
      "...           ...          ...            ...  \n",
      "2458        0.000       -0.005              0  \n",
      "2459       -0.040        0.002              1  \n",
      "2460        0.009       -0.014              1  \n",
      "2461       -0.044       -0.004              0  \n",
      "2462       -0.031       -0.020              1  \n",
      "\n",
      "[2463 rows x 7 columns]\n"
     ]
    }
   ],
   "source": [
    "# load dataset\n",
    "data = pd.read_csv(\"baseballData.csv\")\n",
    "print(data)"
   ]
  },
  {
   "cell_type": "code",
   "execution_count": 4,
   "metadata": {},
   "outputs": [],
   "source": [
    "#split dataset into independent and dependent variables\n",
    "independent_cols = ['Delta (ERA)', 'Delta (RBI)', 'Delta (SLG)', 'Delta (AVG)']\n",
    "X = data[independent_cols] # independent variables\n",
    "y = data.home_team_win # Dependent variable"
   ]
  },
  {
   "cell_type": "code",
   "execution_count": 5,
   "metadata": {},
   "outputs": [],
   "source": [
    "# split X and y into training and testing sets\n",
    "\n",
    "X_train,X_test,y_train,y_test=train_test_split(X,y,test_size=0.1)"
   ]
  },
  {
   "cell_type": "code",
   "execution_count": 6,
   "metadata": {},
   "outputs": [],
   "source": [
    "# instantiate the model (using the default parameters)\n",
    "logreg = LogisticRegression()\n",
    "\n",
    "# fit the model with data from the training set \n",
    "finalPrediction = logreg.fit(X_train,y_train)"
   ]
  },
  {
   "cell_type": "code",
   "execution_count": 7,
   "metadata": {},
   "outputs": [],
   "source": [
    "saved_model = {\n",
    "    'regression': logreg\n",
    "}\n",
    "pickle.dump(saved_model, open( 'models' + \".p\", \"wb\" ))"
   ]
  },
  {
   "cell_type": "code",
   "execution_count": 8,
   "metadata": {},
   "outputs": [
    {
     "name": "stdout",
     "output_type": "stream",
     "text": [
      "[[ 50  57]\n",
      " [ 39 101]]\n"
     ]
    }
   ],
   "source": [
    "# prediction done by using the X_test data set \n",
    "y_pred=logreg.predict(X_test)\n",
    "\n",
    "# confusion matrix used to test the accuracy precision of the prediction \n",
    "cnf_matrix = metrics.confusion_matrix(y_test, y_pred)\n",
    "print(cnf_matrix)"
   ]
  },
  {
   "cell_type": "code",
   "execution_count": 9,
   "metadata": {},
   "outputs": [
    {
     "data": {
      "text/plain": [
       "Text(0.5, 257.44, 'Predicted label')"
      ]
     },
     "execution_count": 9,
     "metadata": {},
     "output_type": "execute_result"
    },
    {
     "data": {
      "image/png": "[encoded data removed]",
      "text/plain": [
       "<Figure size 432x288 with 2 Axes>"
      ]
     },
     "metadata": {
      "needs_background": "light"
     },
     "output_type": "display_data"
    }
   ],
   "source": [
    "%matplotlib inline\n",
    "class_names=[0,1] # name  of classes\n",
    "fig, ax = plt.subplots()\n",
    "tick_marks = np.arange(len(class_names))\n",
    "plt.xticks(tick_marks, class_names)\n",
    "plt.yticks(tick_marks, class_names)\n",
    "# create heatmap for data set \n",
    "sns.heatmap(pd.DataFrame(cnf_matrix), annot=True, cmap=\"YlGnBu\" ,fmt='g')\n",
    "ax.xaxis.set_label_position(\"top\")\n",
    "plt.tight_layout()\n",
    "plt.title('Confusion matrix', y=1.1)\n",
    "plt.ylabel('Actual label')\n",
    "plt.xlabel('Predicted label')"
   ]
  },
  {
   "cell_type": "code",
   "execution_count": 10,
   "metadata": {},
   "outputs": [
    {
     "name": "stdout",
     "output_type": "stream",
     "text": [
      "Accuracy: 61.134%\n",
      "Precision: 63.924%\n",
      "Recall: 72.143%\n"
     ]
    }
   ],
   "source": [
    "print(\"Accuracy:\",\"{:.3%}\".format(metrics.accuracy_score(y_test, y_pred)))\n",
    "print(\"Precision:\",\"{:.3%}\".format(metrics.precision_score(y_test, y_pred)))\n",
    "print(\"Recall:\",\"{:.3%}\".format(metrics.recall_score(y_test, y_pred)))"
   ]
  },
  {
   "cell_type": "code",
   "execution_count": 11,
   "metadata": {},
   "outputs": [
    {
     "name": "stdout",
     "output_type": "stream",
     "text": [
      "      Delta (ERA)  Delta (RBI)  Delta (SLG)  Delta (AVG)\n",
      "1190         0.21          -39       -0.028       -0.002\n",
      "828          0.10          -79       -0.020       -0.002\n",
      "384         -0.44           18       -0.017       -0.008\n",
      "2359         0.20          -80       -0.006        0.005\n",
      "444         -0.44           18       -0.017       -0.008\n",
      "...           ...          ...          ...          ...\n",
      "6            0.42          -81        0.000       -0.005\n",
      "1721         0.16            2        0.000       -0.003\n",
      "2215        -0.06           46        0.013        0.012\n",
      "519          0.05            5        0.011       -0.009\n",
      "945          0.93         -106       -0.025       -0.009\n",
      "\n",
      "[247 rows x 4 columns]\n",
      "[1]\n"
     ]
    }
   ],
   "source": [
    "print(X_test)\n",
    "x2 = np.array([-0.43, -70, -0.044, 0.003])\n",
    "y = x2.reshape(1,4)\n",
    "prediction = logreg.predict(y)\n",
    "print(prediction)"
   ]
  },
  {
   "cell_type": "code",
   "execution_count": 12,
   "metadata": {},
   "outputs": [],
   "source": [
    "def measure_accuracy(independent_column):\n",
    "    X = data[independent_column] # independent variables\n",
    "    y = data.home_team_win # Dependent variable\n",
    "    \n",
    "    # split X and y into training and testing sets\n",
    "    X_train,X_test,y_train,y_test=train_test_split(X,y,test_size=0.20)\n",
    "    \n",
    "    # instantiate the model (using the default parameters)\n",
    "    logreg = LogisticRegression()\n",
    "\n",
    "    # fit the model with data from the training set \n",
    "    finalPrediction = logreg.fit(X_train,y_train)\n",
    "\n",
    "    # prediction done by using the X_test data set \n",
    "    y_pred=logreg.predict(X_test)\n",
    "    \n",
    "    print(independent_column[0])\n",
    "    print(\"Accuracy:\",\"{:.3%}\".format(metrics.accuracy_score(y_test, y_pred)))\n",
    "    print(\"Precision:\",\"{:.3%}\".format(metrics.precision_score(y_test, y_pred)))\n",
    "    print(\"Recall:\",\"{:.3%}\".format(metrics.recall_score(y_test, y_pred)))\n",
    "    print()"
   ]
  },
  {
   "cell_type": "code",
   "execution_count": 13,
   "metadata": {},
   "outputs": [
    {
     "name": "stdout",
     "output_type": "stream",
     "text": [
      "Delta (RBI)\n",
      "Accuracy: 51.318%\n",
      "Precision: 53.125%\n",
      "Recall: 71.374%\n",
      "\n",
      "Delta (SLG)\n",
      "Accuracy: 50.913%\n",
      "Precision: 50.913%\n",
      "Recall: 100.000%\n",
      "\n",
      "Delta (AVG)\n",
      "Accuracy: 54.361%\n",
      "Precision: 54.361%\n",
      "Recall: 100.000%\n",
      "\n"
     ]
    }
   ],
   "source": [
    "measure_accuracy(['Delta (RBI)'])\n",
    "measure_accuracy(['Delta (SLG)'])\n",
    "measure_accuracy(['Delta (AVG)'])"
   ]
  }
 ],
 "metadata": {
  "kernelspec": {
   "display_name": "Python 3",
   "language": "python",
   "name": "python3"
  },
  "language_info": {
   "codemirror_mode": {
    "name": "ipython",
    "version": 3
   },
   "file_extension": ".py",
   "mimetype": "text/x-python",
   "name": "python",
   "nbconvert_exporter": "python",
   "pygments_lexer": "ipython3",
   "version": "3.8.3"
  }
 },
 "nbformat": 4,
 "nbformat_minor": 4
}
