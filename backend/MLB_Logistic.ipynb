{
 "cells": [
  {
   "cell_type": "code",
   "execution_count": 1,
   "metadata": {},
   "outputs": [
    {
     "name": "stdout",
     "output_type": "stream",
     "text": [
      "Requirement already satisfied: mlbgame in c:\\users\\ayanm\\anaconda3\\lib\\site-packages (2.5.0)\n",
      "Requirement already satisfied: lxml in c:\\users\\ayanm\\anaconda3\\lib\\site-packages (from mlbgame) (4.5.2)\n",
      "Note: you may need to restart the kernel to use updated packages.\n"
     ]
    }
   ],
   "source": [
    "pip install mlbgame"
   ]
  },
  {
   "cell_type": "code",
   "execution_count": 2,
   "metadata": {},
   "outputs": [],
   "source": [
    "import mlbgame #import MLB API used for passing scores for prediction\n",
    "import pandas as pd \n",
    "import matplotlib.pyplot as plt\n",
    "import numpy as np\n",
    "import matplotlib.pyplot as plt\n",
    "import seaborn as sns\n",
    "from sklearn.model_selection import train_test_split #used for splitting data into training and testing \n",
    "from sklearn.linear_model import LogisticRegression\n",
    "from sklearn.svm import SVC\n",
    "from sklearn import metrics"
   ]
  },
  {
   "cell_type": "code",
   "execution_count": 3,
   "metadata": {
    "scrolled": true
   },
   "outputs": [
    {
     "name": "stdout",
     "output_type": "stream",
     "text": [
      "                  away_team             home_team  Delta (ERA)  Delta (RBI)  \\\n",
      "0             New York Mets    Kansas City Royals         0.64           -9   \n",
      "1     Philadelphia Phillies       Cincinnati Reds         0.28          104   \n",
      "2           Minnesota Twins     Baltimore Orioles        -0.86           20   \n",
      "3      Washington Nationals        Atlanta Braves         1.00         -120   \n",
      "4          Colorado Rockies  Arizona Diamondbacks         0.18          -96   \n",
      "...                     ...                   ...          ...          ...   \n",
      "2458      Toronto Blue Jays        Tampa Bay Rays         0.42          -81   \n",
      "2459    St. Louis Cardinals    Pittsburgh Pirates         0.13          -49   \n",
      "2460   San Francisco Giants     Milwaukee Brewers         0.43          -34   \n",
      "2461         Detroit Tigers         Miami Marlins        -0.19          -93   \n",
      "2462         Boston Red Sox     Cleveland Indians        -0.16         -103   \n",
      "\n",
      "      Delta (SLG)  Delta (AVG)  home_team_win  \n",
      "0          -0.017        0.015              1  \n",
      "1           0.024        0.016              1  \n",
      "2           0.022        0.005              1  \n",
      "3          -0.042       -0.001              0  \n",
      "4          -0.025       -0.014              0  \n",
      "...           ...          ...            ...  \n",
      "2458        0.000       -0.005              0  \n",
      "2459       -0.040        0.002              1  \n",
      "2460        0.009       -0.014              1  \n",
      "2461       -0.044       -0.004              0  \n",
      "2462       -0.031       -0.020              1  \n",
      "\n",
      "[2463 rows x 7 columns]\n"
     ]
    }
   ],
   "source": [
    "# load dataset\n",
    "data = pd.read_csv(\"baseballData.csv\")\n",
    "print(data)"
   ]
  },
  {
   "cell_type": "code",
   "execution_count": 4,
   "metadata": {},
   "outputs": [],
   "source": [
    "#split dataset into independent and dependent variables\n",
    "independent_cols = ['Delta (ERA)', 'Delta (RBI)', 'Delta (SLG)', 'Delta (AVG)']\n",
    "X = data[independent_cols] # independent variables\n",
    "y = data.home_team_win # Dependent variable"
   ]
  },
  {
   "cell_type": "code",
   "execution_count": 5,
   "metadata": {},
   "outputs": [],
   "source": [
    "# split X and y into training and testing sets\n",
    "\n",
    "X_train,X_test,y_train,y_test=train_test_split(X,y,test_size=0.30)"
   ]
  },
  {
   "cell_type": "code",
   "execution_count": 6,
   "metadata": {},
   "outputs": [],
   "source": [
    "# instantiate the model (using the default parameters)\n",
    "logreg = LogisticRegression()\n",
    "\n",
    "# fit the model with data from the training set \n",
    "finalPrediction = logreg.fit(X_train,y_train)\n",
    "\n",
    "# prediction done by using the X_test data set \n",
    "y_pred=logreg.predict(X_test)"
   ]
  },
  {
   "cell_type": "code",
   "execution_count": 7,
   "metadata": {},
   "outputs": [
    {
     "name": "stdout",
     "output_type": "stream",
     "text": [
      "[[161 192]\n",
      " [119 267]]\n"
     ]
    }
   ],
   "source": [
    "svm_classifier = SVC(kernel=\"rbf\", gamma=\"auto\")\n",
    "svm_classifier.fit(X_train, y_train)\n",
    "svm_classifier.predict(X_test)\n",
    "svm_confusion_matrix = metrics.confusion_matrix(y_test, y_pred)\n",
    "print(svm_confusion_matrix)"
   ]
  },
  {
   "cell_type": "code",
   "execution_count": 8,
   "metadata": {},
   "outputs": [
    {
     "name": "stdout",
     "output_type": "stream",
     "text": [
      "[[161 192]\n",
      " [119 267]]\n"
     ]
    }
   ],
   "source": [
    "# confusion matrix used to test the accuracy precision of the prediction \n",
    "cnf_matrix = metrics.confusion_matrix(y_test, y_pred)\n",
    "print(cnf_matrix)"
   ]
  },
  {
   "cell_type": "code",
   "execution_count": 9,
   "metadata": {},
   "outputs": [
    {
     "data": {
      "text/plain": [
       "Text(0.5, 257.44, 'Predicted label')"
      ]
     },
     "execution_count": 9,
     "metadata": {},
     "output_type": "execute_result"
    },
    {
     "data": {
      "image/png": "[encoded data removed]",
      "text/plain": [
       "<Figure size 432x288 with 2 Axes>"
      ]
     },
     "metadata": {
      "needs_background": "light"
     },
     "output_type": "display_data"
    }
   ],
   "source": [
    "%matplotlib inline\n",
    "class_names=[0,1] # name  of classes\n",
    "fig, ax = plt.subplots()\n",
    "tick_marks = np.arange(len(class_names))\n",
    "plt.xticks(tick_marks, class_names)\n",
    "plt.yticks(tick_marks, class_names)\n",
    "# create heatmap for data set \n",
    "sns.heatmap(pd.DataFrame(cnf_matrix), annot=True, cmap=\"YlGnBu\" ,fmt='g')\n",
    "ax.xaxis.set_label_position(\"top\")\n",
    "plt.tight_layout()\n",
    "plt.title('Confusion matrix', y=1.1)\n",
    "plt.ylabel('Actual label')\n",
    "plt.xlabel('Predicted label')"
   ]
  },
  {
   "cell_type": "code",
   "execution_count": 10,
   "metadata": {},
   "outputs": [
    {
     "name": "stdout",
     "output_type": "stream",
     "text": [
      "Accuracy: 57.916%\n",
      "Precision: 58.170%\n",
      "Recall: 69.171%\n"
     ]
    }
   ],
   "source": [
    "print(\"Accuracy:\",\"{:.3%}\".format(metrics.accuracy_score(y_test, y_pred)))\n",
    "print(\"Precision:\",\"{:.3%}\".format(metrics.precision_score(y_test, y_pred)))\n",
    "print(\"Recall:\",\"{:.3%}\".format(metrics.recall_score(y_test, y_pred)))"
   ]
  },
  {
   "cell_type": "code",
   "execution_count": 11,
   "metadata": {},
   "outputs": [
    {
     "name": "stdout",
     "output_type": "stream",
     "text": [
      "      Delta (ERA)  Delta (RBI)  Delta (SLG)  Delta (AVG)\n",
      "672          0.00          104        0.035        0.011\n",
      "233         -0.90          141        0.035       -0.007\n",
      "1102         0.83          -67       -0.034        0.001\n",
      "2045         0.70          -18        0.006       -0.001\n",
      "223         -1.34         -156       -0.040       -0.029\n",
      "...           ...          ...          ...          ...\n",
      "69          -0.58           52        0.010        0.023\n",
      "609         -0.06           86        0.009        0.010\n",
      "1228        -1.08          146        0.040        0.031\n",
      "1549         0.48           24        0.018        0.021\n",
      "1249         0.31          -13       -0.031        0.003\n",
      "\n",
      "[739 rows x 4 columns]\n",
      "[1]\n"
     ]
    }
   ],
   "source": [
    "print(X_test)\n",
    "x2 = np.array([-0.43, -70, -0.044, 0.003])\n",
    "y = x2.reshape(1,4)\n",
    "prediction = logreg.predict(y)\n",
    "print(prediction)"
   ]
  },
  {
   "cell_type": "code",
   "execution_count": 12,
   "metadata": {},
   "outputs": [],
   "source": [
    "def measure_accuracy(independent_column):\n",
    "    X = data[independent_column] # independent variables\n",
    "    y = data.home_team_win # Dependent variable\n",
    "    \n",
    "    # split X and y into training and testing sets\n",
    "    X_train,X_test,y_train,y_test=train_test_split(X,y,test_size=0.20)\n",
    "    \n",
    "    # instantiate the model (using the default parameters)\n",
    "    logreg = LogisticRegression()\n",
    "\n",
    "    # fit the model with data from the training set \n",
    "    finalPrediction = logreg.fit(X_train,y_train)\n",
    "\n",
    "    # prediction done by using the X_test data set \n",
    "    y_pred=logreg.predict(X_test)\n",
    "    \n",
    "    print(independent_column[0])\n",
    "    print(\"Accuracy:\",\"{:.3%}\".format(metrics.accuracy_score(y_test, y_pred)))\n",
    "    print(\"Precision:\",\"{:.3%}\".format(metrics.precision_score(y_test, y_pred)))\n",
    "    print(\"Recall:\",\"{:.3%}\".format(metrics.recall_score(y_test, y_pred)))\n",
    "    print()"
   ]
  },
  {
   "cell_type": "code",
   "execution_count": 13,
   "metadata": {},
   "outputs": [
    {
     "name": "stdout",
     "output_type": "stream",
     "text": [
      "Delta (RBI)\n",
      "Accuracy: 52.130%\n",
      "Precision: 50.133%\n",
      "Recall: 79.325%\n",
      "\n",
      "Delta (SLG)\n",
      "Accuracy: 53.955%\n",
      "Precision: 55.202%\n",
      "Recall: 94.203%\n",
      "\n",
      "Delta (AVG)\n",
      "Accuracy: 54.564%\n",
      "Precision: 54.564%\n",
      "Recall: 100.000%\n",
      "\n"
     ]
    }
   ],
   "source": [
    "measure_accuracy(['Delta (RBI)'])\n",
    "measure_accuracy(['Delta (SLG)'])\n",
    "measure_accuracy(['Delta (AVG)'])"
   ]
  }
 ],
 "metadata": {
  "kernelspec": {
   "display_name": "Python 3",
   "language": "python",
   "name": "python3"
  },
  "language_info": {
   "codemirror_mode": {
    "name": "ipython",
    "version": 3
   },
   "file_extension": ".py",
   "mimetype": "text/x-python",
   "name": "python",
   "nbconvert_exporter": "python",
   "pygments_lexer": "ipython3",
   "version": "3.8.3"
  }
 },
 "nbformat": 4,
 "nbformat_minor": 4
}
