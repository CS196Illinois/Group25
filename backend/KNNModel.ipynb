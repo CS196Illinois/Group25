{
 "cells": [
  {
   "cell_type": "code",
   "execution_count": 27,
   "metadata": {},
   "outputs": [
    {
     "name": "stdout",
     "output_type": "stream",
     "text": [
      "RMSE stands for root-mean-square deviation\n",
      "RMSE value for k=  1 is: 0.714247050954376\n",
      "RMSE value for k=  2 is: 0.6147157940402133\n",
      "RMSE value for k=  3 is: 0.5780009515433039\n",
      "RMSE value for k=  4 is: 0.5497877558246168\n",
      "RMSE value for k=  5 is: 0.5423848505594284\n",
      "RMSE value for k=  6 is: 0.5331091657899212\n",
      "RMSE value for k=  7 is: 0.5327370715325231\n",
      "RMSE value for k=  8 is: 0.5278123974749754\n",
      "RMSE value for k=  9 is: 0.5275294385229395\n",
      "RMSE value for k=  10 is: 0.523687869933055\n",
      "RMSE value for k=  11 is: 0.5204525377054767\n",
      "RMSE value for k=  12 is: 0.5166470233581631\n",
      "RMSE value for k=  13 is: 0.5137763895973215\n",
      "RMSE value for k=  14 is: 0.5136627130561813\n",
      "RMSE value for k=  15 is: 0.5127629820961622\n",
      "RMSE value for k=  16 is: 0.5110262979523827\n",
      "RMSE value for k=  17 is: 0.5094221124476368\n",
      "RMSE value for k=  18 is: 0.5093718978961845\n",
      "RMSE value for k=  19 is: 0.5080108619814452\n",
      "RMSE value for k=  20 is: 0.5071945176705623\n"
     ]
    },
    {
     "data": {
      "text/plain": [
       "<matplotlib.axes._subplots.AxesSubplot at 0x7ae5940>"
      ]
     },
     "execution_count": 27,
     "metadata": {},
     "output_type": "execute_result"
    },
    {
     "data": {
      "image/png": "[encoded data removed]",
      "text/plain": [
       "<Figure size 432x288 with 1 Axes>"
      ]
     },
     "metadata": {
      "needs_background": "light"
     },
     "output_type": "display_data"
    }
   ],
   "source": [
    "import pandas as pd\n",
    "from sklearn import neighbors\n",
    "from sklearn.metrics import mean_squared_error \n",
    "from math import sqrt\n",
    "import matplotlib.pyplot as plt\n",
    "%matplotlib inline\n",
    "df = pd.read_csv('baseballData.csv')\n",
    "df.head()\n",
    "\n",
    "\n",
    "independent_cols = ['Delta (ERA)', 'Delta (RBI)', 'Delta (SLG)', 'Delta (AVG)']\n",
    "X = df[independent_cols]\n",
    "y = df.home_team_win\n",
    "\n",
    "\n",
    "\n",
    "df.drop(['Delta (ERA)', 'Delta (RBI)'], axis=1, inplace=True)\n",
    "df = pd.get_dummies(df)\n",
    "\n",
    "from sklearn.model_selection import train_test_split\n",
    "train , test = train_test_split(df, test_size = 0.3)\n",
    "X_train,X_test,y_train,y_test=train_test_split(X,y,test_size=0.30)\n",
    "\n",
    "\n",
    "\n",
    "from sklearn.preprocessing import MinMaxScaler\n",
    "scaler = MinMaxScaler(feature_range=(0, 1))\n",
    "\n",
    "X_train = scaler.fit_transform(X_train)\n",
    "X_train = pd.DataFrame(X_train)\n",
    "\n",
    "X_test_scaled = scaler.fit_transform(X_test)\n",
    "X_test = pd.DataFrame(X_test_scaled)\n",
    "\n",
    "rmse_val = [] #to store rmse values for different k\n",
    "print('RMSE stands for root-mean-square deviation')\n",
    "for K in range(20):\n",
    "    K = K+1\n",
    "    model = neighbors.KNeighborsRegressor(n_neighbors = K)\n",
    "\n",
    "    model.fit(X_train, y_train)  #fit the model\n",
    "    pred=model.predict(X_test) #make prediction on test set\n",
    "    error = sqrt(mean_squared_error(y_test,pred)) #calculate rmse\n",
    "    rmse_val.append(error) #store rmse values\n",
    "    \n",
    "    print('RMSE value for k= ' , K , 'is:', error)\n",
    "    \n",
    "    \n",
    "curve = pd.DataFrame(rmse_val) #elbow curve \n",
    "curve.plot()"
   ]
  },
  {
   "cell_type": "code",
   "execution_count": null,
   "metadata": {},
   "outputs": [],
   "source": []
  }
 ],
 "metadata": {
  "kernelspec": {
   "display_name": "Python 3",
   "language": "python",
   "name": "python3"
  },
  "language_info": {
   "codemirror_mode": {
    "name": "ipython",
    "version": 3
   },
   "file_extension": ".py",
   "mimetype": "text/x-python",
   "name": "python",
   "nbconvert_exporter": "python",
   "pygments_lexer": "ipython3",
   "version": "3.8.3"
  }
 },
 "nbformat": 4,
 "nbformat_minor": 4
}
