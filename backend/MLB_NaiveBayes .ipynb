{
 "cells": [
  {
   "cell_type": "code",
   "execution_count": 1,
   "metadata": {},
   "outputs": [
    {
     "name": "stdout",
     "output_type": "stream",
     "text": [
      "Collecting mlbgameNote: you may need to restart the kernel to use updated packages.\n"
     ]
    },
    {
     "name": "stderr",
     "output_type": "stream",
     "text": [
      "WARNING: You are using pip version 20.1.1; however, version 20.2.4 is available.\n",
      "You should consider upgrading via the 'c:\\users\\itayg\\appdata\\local\\programs\\python\\python38-32\\python.exe -m pip install --upgrade pip' command.\n"
     ]
    },
    {
     "name": "stdout",
     "output_type": "stream",
     "text": [
      "\n",
      "  Downloading mlbgame-2.5.0.tar.gz (16 kB)\n",
      "Collecting lxml\n",
      "  Downloading lxml-4.6.1-cp38-cp38-win32.whl (3.2 MB)\n",
      "Using legacy setup.py install for mlbgame, since package 'wheel' is not installed.\n",
      "Installing collected packages: lxml, mlbgame\n",
      "    Running setup.py install for mlbgame: started\n",
      "    Running setup.py install for mlbgame: finished with status 'done'\n",
      "Successfully installed lxml-4.6.1 mlbgame-2.5.0\n"
     ]
    }
   ],
   "source": [
    "pip install mlbgame"
   ]
  },
  {
   "cell_type": "code",
   "execution_count": null,
   "metadata": {},
   "outputs": [],
   "source": []
  }
 ],
 "metadata": {
  "kernelspec": {
   "display_name": "Python 3",
   "language": "python",
   "name": "python3"
  },
  "language_info": {
   "codemirror_mode": {
    "name": "ipython",
    "version": 3
   },
   "file_extension": ".py",
   "mimetype": "text/x-python",
   "name": "python",
   "nbconvert_exporter": "python",
   "pygments_lexer": "ipython3",
   "version": "3.8.5"
  }
 },
 "nbformat": 4,
 "nbformat_minor": 4
}
