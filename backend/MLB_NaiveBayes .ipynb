{
 "cells": [
  {
   "cell_type": "code",
   "execution_count": 1,
   "metadata": {},
   "outputs": [
    {
     "name": "stdout",
     "output_type": "stream",
     "text": [
      "Collecting mlbgameNote: you may need to restart the kernel to use updated packages.\n"
     ]
    },
    {
     "name": "stderr",
     "output_type": "stream",
     "text": [
      "WARNING: You are using pip version 20.1.1; however, version 20.2.4 is available.\n",
      "You should consider upgrading via the 'c:\\users\\itayg\\appdata\\local\\programs\\python\\python38-32\\python.exe -m pip install --upgrade pip' command.\n"
     ]
    },
    {
     "name": "stdout",
     "output_type": "stream",
     "text": [
      "\n",
      "  Downloading mlbgame-2.5.0.tar.gz (16 kB)\n",
      "Collecting lxml\n",
      "  Downloading lxml-4.6.1-cp38-cp38-win32.whl (3.2 MB)\n",
      "Using legacy setup.py install for mlbgame, since package 'wheel' is not installed.\n",
      "Installing collected packages: lxml, mlbgame\n",
      "    Running setup.py install for mlbgame: started\n",
      "    Running setup.py install for mlbgame: finished with status 'done'\n",
      "Successfully installed lxml-4.6.1 mlbgame-2.5.0\n"
     ]
    }
   ],
   "source": [
    "pip install mlbgame"
   ]
  },
  {
   "cell_type": "code",
   "execution_count": null,
   "metadata": {},
   "outputs": [],
   "source": [
    "import mlbgame #import MLB API used for passing scores for prediction\n",
    "import pandas as pd \n",
    "import matplotlib.pyplot as plt\n",
    "import numpy as np\n",
    "import matplotlib.pyplot as plt\n",
    "import seaborn as sns\n",
    "from sklearn.model_selection import train_test_split #used for splitting data into training and testing \n",
    "from sklearn.linear_model import LogisticRegression\n",
    "from sklearn.svm import SVC\n",
    "from sklearn import metrics"
   ]
  },
  {
   "cell_type": "code",
   "execution_count": null,
   "metadata": {},
   "outputs": [],
   "source": [
    "# load dataset\n",
    "data = pd.read_csv(\"baseballData.csv\")\n",
    "print(data)"
   ]
  },
  {
   "cell_type": "code",
   "execution_count": null,
   "metadata": {},
   "outputs": [],
   "source": [
    "#split dataset into independent and dependent variables\n",
    "independent_cols = ['Delta (ERA)', 'Delta (RBI)', 'Delta (SLG)', 'Delta (AVG)']\n",
    "X = data[independent_cols] # independent variables\n",
    "y = data.home_team_win # Dependent variable"
   ]
  },
  {
   "cell_type": "code",
   "execution_count": null,
   "metadata": {},
   "outputs": [],
   "source": [
    "# split X and y into training and testing sets\n",
    "\n",
    "X_train,X_test,y_train,y_test=train_test_split(X,y,test_size=0.30)"
   ]
  },
  {
   "cell_type": "code",
   "execution_count": null,
   "metadata": {},
   "outputs": [],
   "source": [
    "# instantiate the model (using the default parameters)\n",
    "logreg = LogisticRegression()\n",
    "\n",
    "# fit the model with data from the training set \n",
    "finalPrediction = logreg.fit(X_train,y_train)\n",
    "\n",
    "# prediction done by using the X_test data set \n",
    "y_pred=logreg.predict(X_test)"
   ]
  },
  {
   "cell_type": "code",
   "execution_count": null,
   "metadata": {},
   "outputs": [],
   "source": [
    "svm_classifier = SVC(kernel=\"rbf\", gamma=\"auto\")\n",
    "svm_classifier.fit(X_train, y_train)\n",
    "svm_classifier.predict(X_test)\n",
    "svm_confusion_matrix = metrics.confusion_matrix(y_test, y_pred)\n",
    "print(svm_confusion_matrix)"
   ]
  },
  {
   "cell_type": "code",
   "execution_count": null,
   "metadata": {},
   "outputs": [],
   "source": [
    "# confusion matrix used to test the accuracy precision of the prediction \n",
    "cnf_matrix = metrics.confusion_matrix(y_test, y_pred)\n",
    "print(cnf_matrix)"
   ]
  },
  {
   "cell_type": "code",
   "execution_count": null,
   "metadata": {},
   "outputs": [],
   "source": [
    "%matplotlib inline\n",
    "class_names=[0,1] # name  of classes\n",
    "fig, ax = plt.subplots()\n",
    "tick_marks = np.arange(len(class_names))\n",
    "plt.xticks(tick_marks, class_names)\n",
    "plt.yticks(tick_marks, class_names)\n",
    "# create heatmap for data set \n",
    "sns.heatmap(pd.DataFrame(cnf_matrix), annot=True, cmap=\"YlGnBu\" ,fmt='g')\n",
    "ax.xaxis.set_label_position(\"top\")\n",
    "plt.tight_layout()\n",
    "plt.title('Confusion matrix', y=1.1)\n",
    "plt.ylabel('Actual label')\n",
    "plt.xlabel('Predicted label')"
   ]
  },
  {
   "cell_type": "code",
   "execution_count": null,
   "metadata": {},
   "outputs": [],
   "source": [
    "print(\"Accuracy:\",\"{:.3%}\".format(metrics.accuracy_score(y_test, y_pred)))\n",
    "print(\"Precision:\",\"{:.3%}\".format(metrics.precision_score(y_test, y_pred)))\n",
    "print(\"Recall:\",\"{:.3%}\".format(metrics.recall_score(y_test, y_pred)))"
   ]
  },
  {
   "cell_type": "code",
   "execution_count": null,
   "metadata": {},
   "outputs": [],
   "source": [
    "print(X_test)\n",
    "x2 = np.array([-0.43, -70, -0.044, 0.003])\n",
    "y = x2.reshape(1,4)\n",
    "prediction = logreg.predict(y)\n",
    "print(prediction)"
   ]
  },
  {
   "cell_type": "code",
   "execution_count": null,
   "metadata": {},
   "outputs": [],
   "source": [
    "def measure_accuracy(independent_column):\n",
    "    X = data[independent_column] # independent variables\n",
    "    y = data.home_team_win # Dependent variable\n",
    "    \n",
    "    # split X and y into training and testing sets\n",
    "    X_train,X_test,y_train,y_test=train_test_split(X,y,test_size=0.20)\n",
    "    \n",
    "    # instantiate the model (using the default parameters)\n",
    "    logreg = LogisticRegression()\n",
    "\n",
    "    # fit the model with data from the training set \n",
    "    finalPrediction = logreg.fit(X_train,y_train)\n",
    "\n",
    "    # prediction done by using the X_test data set \n",
    "    y_pred=logreg.predict(X_test)\n",
    "    \n",
    "    print(independent_column[0])\n",
    "    print(\"Accuracy:\",\"{:.3%}\".format(metrics.accuracy_score(y_test, y_pred)))\n",
    "    print(\"Precision:\",\"{:.3%}\".format(metrics.precision_score(y_test, y_pred)))\n",
    "    print(\"Recall:\",\"{:.3%}\".format(metrics.recall_score(y_test, y_pred)))\n",
    "    print()"
   ]
  },
  {
   "cell_type": "code",
   "execution_count": null,
   "metadata": {},
   "outputs": [],
   "source": [
    "measure_accuracy(['Delta (RBI)'])\n",
    "measure_accuracy(['Delta (SLG)'])\n",
    "measure_accuracy(['Delta (AVG)'])"
   ]
  }
 ],
 "metadata": {
  "kernelspec": {
   "display_name": "Python 3",
   "language": "python",
   "name": "python3"
  },
  "language_info": {
   "codemirror_mode": {
    "name": "ipython",
    "version": 3
   },
   "file_extension": ".py",
   "mimetype": "text/x-python",
   "name": "python",
   "nbconvert_exporter": "python",
   "pygments_lexer": "ipython3",
   "version": "3.8.3"
  }
 },
 "nbformat": 4,
 "nbformat_minor": 4
}
