{
 "cells": [
  {
   "cell_type": "code",
   "execution_count": 1,
   "metadata": {},
   "outputs": [
    {
     "name": "stdout",
     "output_type": "stream",
     "text": [
      "Requirement already satisfied: mlbgame in c:\\users\\ayanm\\anaconda3\\lib\\site-packages (2.5.0)Note: you may need to restart the kernel to use updated packages.\n",
      "Requirement already satisfied: lxml in c:\\users\\ayanm\\anaconda3\\lib\\site-packages (from mlbgame) (4.5.2)\n",
      "\n"
     ]
    }
   ],
   "source": [
    "pip install mlbgame"
   ]
  },
  {
   "cell_type": "code",
   "execution_count": 2,
   "metadata": {},
   "outputs": [],
   "source": [
    "import mlbgame #import MLB API used for passing scores for prediction\n",
    "import pandas as pd \n",
    "import matplotlib.pyplot as plt\n",
    "import numpy as np\n",
    "import matplotlib.pyplot as plt\n",
    "import seaborn as sns\n",
    "from sklearn.model_selection import train_test_split #used for splitting data into training and testing \n",
    "from sklearn.linear_model import LogisticRegression \n",
    "from sklearn import metrics"
   ]
  },
  {
   "cell_type": "code",
   "execution_count": 3,
   "metadata": {
    "scrolled": true
   },
   "outputs": [
    {
     "name": "stdout",
     "output_type": "stream",
     "text": [
      "                  away_team             home_team  Delta (ERA)  Delta (RBI)  \\\n",
      "0             New York Mets    Kansas City Royals         0.64           -9   \n",
      "1     Philadelphia Phillies       Cincinnati Reds         0.28          104   \n",
      "2           Minnesota Twins     Baltimore Orioles        -0.86           20   \n",
      "3      Washington Nationals        Atlanta Braves         1.00         -120   \n",
      "4          Colorado Rockies  Arizona Diamondbacks         0.18          -96   \n",
      "...                     ...                   ...          ...          ...   \n",
      "2458      Toronto Blue Jays        Tampa Bay Rays         0.42          -81   \n",
      "2459    St. Louis Cardinals    Pittsburgh Pirates         0.13          -49   \n",
      "2460   San Francisco Giants     Milwaukee Brewers         0.43          -34   \n",
      "2461         Detroit Tigers         Miami Marlins        -0.19          -93   \n",
      "2462         Boston Red Sox     Cleveland Indians        -0.16         -103   \n",
      "\n",
      "      Delta (SLG)  Delta (AVG)  home_team_win  \n",
      "0          -0.017        0.015              1  \n",
      "1           0.024        0.016              1  \n",
      "2           0.022        0.005              1  \n",
      "3          -0.042       -0.001              0  \n",
      "4          -0.025       -0.014              0  \n",
      "...           ...          ...            ...  \n",
      "2458        0.000       -0.005              0  \n",
      "2459       -0.040        0.002              1  \n",
      "2460        0.009       -0.014              1  \n",
      "2461       -0.044       -0.004              0  \n",
      "2462       -0.031       -0.020              1  \n",
      "\n",
      "[2463 rows x 7 columns]\n"
     ]
    }
   ],
   "source": [
    "# load dataset\n",
    "data = pd.read_csv(\"data.csv\")\n",
    "print(data)"
   ]
  },
  {
   "cell_type": "code",
   "execution_count": 4,
   "metadata": {},
   "outputs": [
    {
     "name": "stdout",
     "output_type": "stream",
     "text": [
      "0       1\n",
      "1       1\n",
      "2       1\n",
      "3       0\n",
      "4       0\n",
      "       ..\n",
      "2458    0\n",
      "2459    1\n",
      "2460    1\n",
      "2461    0\n",
      "2462    1\n",
      "Name: home_team_win, Length: 2463, dtype: int64\n"
     ]
    }
   ],
   "source": [
    "#split dataset into independent and dependent variables\n",
    "independent_cols = ['Delta (ERA)', 'Delta (RBI)', 'Delta (SLG)', 'Delta (AVG)']\n",
    "X = data[independent_cols] # independent variables\n",
    "y = data.home_team_win # Dependent variable\n",
    "print(y)"
   ]
  },
  {
   "cell_type": "code",
   "execution_count": 5,
   "metadata": {},
   "outputs": [],
   "source": [
    "# split X and y into training and testing sets\n",
    "\n",
    "X_train,X_test,y_train,y_test=train_test_split(X,y,test_size=0.20)"
   ]
  },
  {
   "cell_type": "code",
   "execution_count": 6,
   "metadata": {},
   "outputs": [],
   "source": [
    "# instantiate the model (using the default parameters)\n",
    "logreg = LogisticRegression()\n",
    "\n",
    "# fit the model with data from the training set \n",
    "finalPrediction = logreg.fit(X_train,y_train)\n",
    "\n",
    "# prediction done by using the X_test data set \n",
    "y_pred=logreg.predict(X_test)"
   ]
  },
  {
   "cell_type": "code",
   "execution_count": 7,
   "metadata": {},
   "outputs": [
    {
     "name": "stdout",
     "output_type": "stream",
     "text": [
      "[[118 107]\n",
      " [ 87 181]]\n"
     ]
    }
   ],
   "source": [
    "# confusion matrix used to test the accuracy precision of the prediction \n",
    "cnf_matrix = metrics.confusion_matrix(y_test, y_pred)\n",
    "print(cnf_matrix)"
   ]
  },
  {
   "cell_type": "code",
   "execution_count": 8,
   "metadata": {},
   "outputs": [
    {
     "data": {
      "text/plain": [
       "Text(0.5, 257.44, 'Predicted label')"
      ]
     },
     "execution_count": 8,
     "metadata": {},
     "output_type": "execute_result"
    },
    {
     "data": {
      "image/png": "[encoded data removed]",
      "text/plain": [
       "<Figure size 432x288 with 2 Axes>"
      ]
     },
     "metadata": {
      "needs_background": "light"
     },
     "output_type": "display_data"
    }
   ],
   "source": [
    "%matplotlib inline\n",
    "class_names=[0,1] # name  of classes\n",
    "fig, ax = plt.subplots()\n",
    "tick_marks = np.arange(len(class_names))\n",
    "plt.xticks(tick_marks, class_names)\n",
    "plt.yticks(tick_marks, class_names)\n",
    "# create heatmap for data set \n",
    "sns.heatmap(pd.DataFrame(cnf_matrix), annot=True, cmap=\"YlGnBu\" ,fmt='g')\n",
    "ax.xaxis.set_label_position(\"top\")\n",
    "plt.tight_layout()\n",
    "plt.title('Confusion matrix', y=1.1)\n",
    "plt.ylabel('Actual label')\n",
    "plt.xlabel('Predicted label')"
   ]
  },
  {
   "cell_type": "code",
   "execution_count": 9,
   "metadata": {},
   "outputs": [
    {
     "name": "stdout",
     "output_type": "stream",
     "text": [
      "Accuracy: 60.649%\n",
      "Precision: 62.847%\n",
      "Recall: 67.537%\n"
     ]
    }
   ],
   "source": [
    "print(\"Accuracy:\",\"{:.3%}\".format(metrics.accuracy_score(y_test, y_pred)))\n",
    "print(\"Precision:\",\"{:.3%}\".format(metrics.precision_score(y_test, y_pred)))\n",
    "print(\"Recall:\",\"{:.3%}\".format(metrics.recall_score(y_test, y_pred)))"
   ]
  },
  {
   "cell_type": "code",
   "execution_count": 10,
   "metadata": {},
   "outputs": [
    {
     "name": "stdout",
     "output_type": "stream",
     "text": [
      "      Delta (ERA)  Delta (RBI)  Delta (SLG)  Delta (AVG)\n",
      "947         -0.02          -56       -0.025       -0.008\n",
      "741          0.12          -41        0.000       -0.015\n",
      "2205        -0.27           85        0.043        0.021\n",
      "642         -0.70           18       -0.006        0.001\n",
      "1694         0.14          -42        0.009       -0.004\n",
      "...           ...          ...          ...          ...\n",
      "2309        -0.18          -30        0.005       -0.003\n",
      "1701         0.48          151        0.067        0.040\n",
      "903          0.55         -171       -0.058       -0.015\n",
      "389          1.06          -75       -0.033       -0.006\n",
      "409         -0.98          -34       -0.011        0.006\n",
      "\n",
      "[493 rows x 4 columns]\n",
      "[1]\n"
     ]
    }
   ],
   "source": [
    "print(X_test)\n",
    "x2 = np.array([-0.42, -71, -0.044, 0.004])\n",
    "y = x2.reshape(1,4)\n",
    "prediction = logreg.predict(y)\n",
    "print(prediction)"
   ]
  },
  {
   "cell_type": "code",
   "execution_count": 11,
   "metadata": {},
   "outputs": [],
   "source": [
    "def measure_accuracy(independent_column):\n",
    "    X = data[independent_column] # independent variables\n",
    "    y = data.home_team_win # Dependent variable\n",
    "    \n",
    "    # split X and y into training and testing sets\n",
    "    X_train,X_test,y_train,y_test=train_test_split(X,y,test_size=0.20)\n",
    "    \n",
    "    # instantiate the model (using the default parameters)\n",
    "    logreg = LogisticRegression()\n",
    "\n",
    "    # fit the model with data from the training set \n",
    "    finalPrediction = logreg.fit(X_train,y_train)\n",
    "\n",
    "    # prediction done by using the X_test data set \n",
    "    y_pred=logreg.predict(X_test)\n",
    "    \n",
    "    print(independent_column[0])\n",
    "    print(\"Accuracy:\",\"{:.3%}\".format(metrics.accuracy_score(y_test, y_pred)))\n",
    "    print(\"Precision:\",\"{:.3%}\".format(metrics.precision_score(y_test, y_pred)))\n",
    "    print(\"Recall:\",\"{:.3%}\".format(metrics.recall_score(y_test, y_pred)))\n",
    "    print()"
   ]
  },
  {
   "cell_type": "code",
   "execution_count": 13,
   "metadata": {},
   "outputs": [
    {
     "name": "stdout",
     "output_type": "stream",
     "text": [
      "Delta (ERA)\n",
      "Accuracy: 56.795%\n",
      "Precision: 57.738%\n",
      "Recall: 73.208%\n",
      "\n",
      "Delta (RBI)\n",
      "Accuracy: 56.592%\n",
      "Precision: 56.941%\n",
      "Recall: 76.426%\n",
      "\n",
      "Delta (SLG)\n",
      "Accuracy: 55.172%\n",
      "Precision: 55.649%\n",
      "Recall: 96.727%\n",
      "\n",
      "Delta (AVG)\n",
      "Accuracy: 54.158%\n",
      "Precision: 54.158%\n",
      "Recall: 100.000%\n",
      "\n"
     ]
    }
   ],
   "source": [
    "measure_accuracy(['Delta (ERA)'])\n",
    "measure_accuracy(['Delta (RBI)'])\n",
    "measure_accuracy(['Delta (SLG)'])\n",
    "measure_accuracy(['Delta (AVG)'])"
   ]
  }
 ],
 "metadata": {
  "kernelspec": {
   "display_name": "Python 3",
   "language": "python",
   "name": "python3"
  },
  "language_info": {
   "codemirror_mode": {
    "name": "ipython",
    "version": 3
   },
   "file_extension": ".py",
   "mimetype": "text/x-python",
   "name": "python",
   "nbconvert_exporter": "python",
   "pygments_lexer": "ipython3",
   "version": "3.8.3"
  }
 },
 "nbformat": 4,
 "nbformat_minor": 4
}
