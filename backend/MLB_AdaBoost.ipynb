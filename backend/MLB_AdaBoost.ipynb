{
 "cells": [
  {
   "cell_type": "code",
   "execution_count": 1,
   "metadata": {},
   "outputs": [
    {
     "name": "stdout",
     "output_type": "stream",
     "text": [
      "Requirement already satisfied: mlbgame in /Users/shriyangosavi/opt/anaconda3/lib/python3.8/site-packages (2.5.0)\n",
      "Requirement already satisfied: lxml in /Users/shriyangosavi/opt/anaconda3/lib/python3.8/site-packages (from mlbgame) (4.5.2)\n",
      "Note: you may need to restart the kernel to use updated packages.\n"
     ]
    }
   ],
   "source": [
    "pip install mlbgame"
   ]
  },
  {
   "cell_type": "code",
   "execution_count": 2,
   "metadata": {},
   "outputs": [],
   "source": [
    "# Load libraries\n",
    "import mlbgame #import MLB API used for passing scores for prediction\n",
    "import pandas as pd \n",
    "import numpy as np\n",
    "import seaborn as sns\n",
    "from sklearn.ensemble import AdaBoostClassifier\n",
    "from sklearn import datasets\n",
    "# Import train_test_split function\n",
    "from sklearn.model_selection import train_test_split\n",
    "#Import scikit-learn metrics module for accuracy calculation\n",
    "from sklearn import metrics\n",
    "import matplotlib.pyplot as plt"
   ]
  },
  {
   "cell_type": "code",
   "execution_count": 3,
   "metadata": {},
   "outputs": [
    {
     "name": "stdout",
     "output_type": "stream",
     "text": [
      "                  away_team             home_team  Delta (ERA)  Delta (RBI)   \\\n",
      "0             New York Mets    Kansas City Royals         0.64            -9   \n",
      "1     Philadelphia Phillies       Cincinnati Reds         0.28           104   \n",
      "2           Minnesota Twins     Baltimore Orioles        -0.86            20   \n",
      "3      Washington Nationals        Atlanta Braves         1.00          -120   \n",
      "4          Colorado Rockies  Arizona Diamondbacks         0.18           -96   \n",
      "...                     ...                   ...          ...           ...   \n",
      "2458      Toronto Blue Jays        Tampa Bay Rays         0.42           -81   \n",
      "2459    St. Louis Cardinals    Pittsburgh Pirates         0.13           -49   \n",
      "2460   San Francisco Giants     Milwaukee Brewers         0.43           -34   \n",
      "2461         Detroit Tigers         Miami Marlins        -0.19           -93   \n",
      "2462         Boston Red Sox     Cleveland Indians        -0.16          -103   \n",
      "\n",
      "      Delta (SLG)  Delta (AVG)  home_team_win  \n",
      "0          -0.017        0.015              1  \n",
      "1           0.024        0.016              1  \n",
      "2           0.022        0.005              1  \n",
      "3          -0.042       -0.001              0  \n",
      "4          -0.025       -0.014              0  \n",
      "...           ...          ...            ...  \n",
      "2458        0.000       -0.005              0  \n",
      "2459       -0.040        0.002              1  \n",
      "2460        0.009       -0.014              1  \n",
      "2461       -0.044       -0.004              0  \n",
      "2462       -0.031       -0.020              1  \n",
      "\n",
      "[2463 rows x 7 columns]\n"
     ]
    }
   ],
   "source": [
    "# load dataset\n",
    "data = pd.read_csv(\"data.csv\")\n",
    "print(data)"
   ]
  },
  {
   "cell_type": "code",
   "execution_count": 11,
   "metadata": {},
   "outputs": [],
   "source": [
    "#split dataset into independent and dependent variables\n",
    "independent_cols = ['Delta (ERA)', 'Delta (RBI) ', 'Delta (SLG)', 'Delta (AVG)']\n",
    "X = data[independent_cols] # independent variables\n",
    "y = data.home_team_win # Dependent variable"
   ]
  },
  {
   "cell_type": "code",
   "execution_count": 5,
   "metadata": {},
   "outputs": [],
   "source": [
    "# split X and y into training and testing sets\n",
    "\n",
    "X_train,X_test,y_train,y_test=train_test_split(X,y,test_size=0.30,random_state=0)"
   ]
  },
  {
   "cell_type": "code",
   "execution_count": 6,
   "metadata": {},
   "outputs": [],
   "source": [
    "abc = AdaBoostClassifier(n_estimators=500, learning_rate=1)\n",
    "# Train Adaboost Classifer\n",
    "model = abc.fit(X_train, y_train)\n",
    "\n",
    "#Predict the response for test dataset\n",
    "y_pred = model.predict(X_test)"
   ]
  },
  {
   "cell_type": "code",
   "execution_count": 7,
   "metadata": {},
   "outputs": [
    {
     "name": "stdout",
     "output_type": "stream",
     "text": [
      "[[146 184]\n",
      " [168 241]]\n"
     ]
    }
   ],
   "source": [
    "cnf_matrix = metrics.confusion_matrix(y_test, y_pred)\n",
    "print(cnf_matrix)"
   ]
  },
  {
   "cell_type": "code",
   "execution_count": 8,
   "metadata": {},
   "outputs": [
    {
     "data": {
      "text/plain": [
       "Text(0.5, 257.44, 'Predicted label')"
      ]
     },
     "execution_count": 8,
     "metadata": {},
     "output_type": "execute_result"
    },
    {
     "data": {
      "image/png": "[encoded data removed]",
      "text/plain": [
       "<Figure size 432x288 with 2 Axes>"
      ]
     },
     "metadata": {
      "needs_background": "light"
     },
     "output_type": "display_data"
    }
   ],
   "source": [
    "%matplotlib inline\n",
    "class_names=[0,1] # name  of classes\n",
    "fig, ax = plt.subplots()\n",
    "tick_marks = np.arange(len(class_names))\n",
    "plt.xticks(tick_marks, class_names)\n",
    "plt.yticks(tick_marks, class_names)\n",
    "# create heatmap for data set \n",
    "sns.heatmap(pd.DataFrame(cnf_matrix), annot=True, cmap=\"YlGnBu\" ,fmt='g')\n",
    "ax.xaxis.set_label_position(\"top\")\n",
    "plt.tight_layout()\n",
    "plt.title('Confusion matrix', y=1.1)\n",
    "plt.ylabel('Actual label')\n",
    "plt.xlabel('Predicted label')"
   ]
  },
  {
   "cell_type": "code",
   "execution_count": 9,
   "metadata": {},
   "outputs": [
    {
     "name": "stdout",
     "output_type": "stream",
     "text": [
      "Accuracy: 0.523680649526387\n"
     ]
    }
   ],
   "source": [
    "print(\"Accuracy:\",metrics.accuracy_score(y_test, y_pred))"
   ]
  }
 ],
 "metadata": {
  "kernelspec": {
   "display_name": "Python 3",
   "language": "python",
   "name": "python3"
  },
  "language_info": {
   "codemirror_mode": {
    "name": "ipython",
    "version": 3
   },
   "file_extension": ".py",
   "mimetype": "text/x-python",
   "name": "python",
   "nbconvert_exporter": "python",
   "pygments_lexer": "ipython3",
   "version": "3.8.3"
  }
 },
 "nbformat": 4,
 "nbformat_minor": 4
}
