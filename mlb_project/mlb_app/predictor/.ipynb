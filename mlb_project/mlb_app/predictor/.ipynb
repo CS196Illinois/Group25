{
 "cells": [
  {
   "cell_type": "code",
   "execution_count": 309,
   "metadata": {},
   "outputs": [],
   "source": [
    "import urllib\n",
    "from bs4 import BeautifulSoup"
   ]
  },
  {
   "cell_type": "code",
   "execution_count": 310,
   "metadata": {},
   "outputs": [],
   "source": [
    "teamBatting = {\n",
    "    \"New York Mets\": 0,\n",
    "    \"Atlanta Braves\": 1,\n",
    "    \"Boston Red Sox\": 2,\n",
    "    \"Washington Nationals\": 3,\n",
    "    \"San Francisco Giants\": 4,\n",
    "    \"Chicago White Sox\": 5,\n",
    "    \"Baltimore Orioles\": 6,\n",
    "    \"Colorado Rockies\": 7, \n",
    "    \"Philadelphia Phillies\": 8,\n",
    "    \"San Diego Padres\": 9,\n",
    "    \"Los Angeles Dodgers\": 10,\n",
    "    \"Toronto Blue Jays\": 11,\n",
    "    \"Los Angeles Angels\": 12,\n",
    "    \"New York Yankees\": 13,\n",
    "    \"Detroit Tigers\": 14,\n",
    "    \"Kansas City Royals\": 15,\n",
    "    \"Miami Marlins\": 16,\n",
    "    \"Minnesota Twins\": 17,\n",
    "    \"Arizona Diamondbacks\": 18,\n",
    "    \"Houston Astros\": 19,\n",
    "    \"Tampa Bay Rays\": 20,\n",
    "    \"St. Louis Cardinals\": 21,\n",
    "    \"Cleveland Indians\": 22, \n",
    "    \"Seattle Mariners\": 23,\n",
    "    \"Oakland Athletics\": 24,\n",
    "    \"Milwaukee Brewers\": 25,\n",
    "    \"Chicago Cubs\": 26,\n",
    "    \"Pittsburgh Pirates\": 27,\n",
    "    \"Texas Rangers\": 28,\n",
    "    \"Cincinnati Reds\": 29,\n",
    "}\n",
    "teamPitching = {\n",
    "    \"Los Angeles Dodgers\": 0,\n",
    "    \"Cleveland Indians\": 1,\n",
    "    \"Tampa Bay Rays\": 2,\n",
    "    \"Minnesota Twins\": 3,\n",
    "    \"Oakland Athletics\": 4,\n",
    "    \"Chicago White Sox\": 5,\n",
    "    \"Cincinnati Reds\": 6,\n",
    "    \"San Diego Padres\": 7,\n",
    "    \"St. Louis Cardinals\": 8,\n",
    "    \"Chicago Cubs\": 9,\n",
    "    \"Milwaukee Brewers\": 10,\n",
    "    \"Kansas City Royals\": 11,\n",
    "    \"Houston Astros\": 12,\n",
    "    \"New York Yankees\": 13,\n",
    "    \"Atlanta Braves\": 14,\n",
    "    \"Baltimore Orioles\": 15,\n",
    "    \"Toronto Blue Jays\": 16,\n",
    "    \"San Francisco Giants\": 17, \n",
    "    \"Pittsburgh Pirates\": 18, \n",
    "    \"Arizona Diamondbacks\": 19,\n",
    "    \"Miami Marlins\": 20,\n",
    "    \"New York Mets\": 21, \n",
    "    \"Seattle Mariners\": 22,\n",
    "    \"Texas Rangers\": 23,\n",
    "    \"Los Angeles Angels\": 24,\n",
    "    \"Washington Nationals\": 25,\n",
    "    \"Philadelphia Phillies\": 26,\n",
    "    \"Boston Red Sox\": 27,\n",
    "    \"Colorado Rockies\": 28,\n",
    "    \"Detroit Tigers\": 29,\n",
    "}"
   ]
  },
  {
   "cell_type": "code",
   "execution_count": 311,
   "metadata": {},
   "outputs": [
    {
     "name": "stdout",
     "output_type": "stream",
     "text": [
      "14 12\n",
      "463\n",
      "501\n",
      "[70.0, 0.07500000000000001, 0.028000000000000025]\n"
     ]
    },
    {
     "ename": "TypeError",
     "evalue": "'NoneType' object is not subscriptable",
     "output_type": "error",
     "traceback": [
      "\u001b[0;31m---------------------------------------------------------------------------\u001b[0m",
      "\u001b[0;31mTypeError\u001b[0m                                 Traceback (most recent call last)",
      "\u001b[0;32m<ipython-input-311-4440309d62ef>\u001b[0m in \u001b[0;36m<module>\u001b[0;34m\u001b[0m\n\u001b[1;32m     28\u001b[0m     \u001b[0mfinalStats\u001b[0m\u001b[0;34m.\u001b[0m\u001b[0mappend\u001b[0m\u001b[0;34m(\u001b[0m\u001b[0mfindBStats\u001b[0m\u001b[0;34m(\u001b[0m\u001b[0mhomeIndex\u001b[0m\u001b[0;34m)\u001b[0m\u001b[0;34m[\u001b[0m\u001b[0;36m2\u001b[0m\u001b[0;34m]\u001b[0m \u001b[0;34m-\u001b[0m \u001b[0mfindBStats\u001b[0m\u001b[0;34m(\u001b[0m\u001b[0mawayIndex\u001b[0m\u001b[0;34m)\u001b[0m\u001b[0;34m[\u001b[0m\u001b[0;36m2\u001b[0m\u001b[0;34m]\u001b[0m\u001b[0;34m)\u001b[0m\u001b[0;34m\u001b[0m\u001b[0;34m\u001b[0m\u001b[0m\n\u001b[1;32m     29\u001b[0m     \u001b[0mprint\u001b[0m\u001b[0;34m(\u001b[0m\u001b[0mfinalStats\u001b[0m\u001b[0;34m)\u001b[0m\u001b[0;34m\u001b[0m\u001b[0;34m\u001b[0m\u001b[0m\n\u001b[0;32m---> 30\u001b[0;31m \u001b[0mgatherStats\u001b[0m\u001b[0;34m(\u001b[0m\u001b[0;34m\"Atlanta Braves\"\u001b[0m\u001b[0;34m,\u001b[0m \u001b[0;34m\"Houston Astros\"\u001b[0m\u001b[0;34m)\u001b[0m\u001b[0;34m\u001b[0m\u001b[0;34m\u001b[0m\u001b[0m\n\u001b[0m",
      "\u001b[0;32m<ipython-input-277-3f12e23f970a>\u001b[0m in \u001b[0;36mgatherStats\u001b[0;34m(homeTeam, awayTeam)\u001b[0m\n\u001b[1;32m      2\u001b[0m     \u001b[0moutput\u001b[0m \u001b[0;34m=\u001b[0m \u001b[0;34m[\u001b[0m\u001b[0;34m]\u001b[0m\u001b[0;34m\u001b[0m\u001b[0;34m\u001b[0m\u001b[0m\n\u001b[1;32m      3\u001b[0m     \u001b[0moutput\u001b[0m\u001b[0;34m.\u001b[0m\u001b[0mappend\u001b[0m\u001b[0;34m(\u001b[0m\u001b[0mgatherPitchingStats\u001b[0m\u001b[0;34m(\u001b[0m\u001b[0mhomeTeam\u001b[0m\u001b[0;34m,\u001b[0m \u001b[0mawayTeam\u001b[0m\u001b[0;34m)\u001b[0m\u001b[0;34m[\u001b[0m\u001b[0;36m0\u001b[0m\u001b[0;34m]\u001b[0m\u001b[0;34m)\u001b[0m\u001b[0;34m\u001b[0m\u001b[0;34m\u001b[0m\u001b[0m\n\u001b[0;32m----> 4\u001b[0;31m     \u001b[0moutput\u001b[0m\u001b[0;34m.\u001b[0m\u001b[0mappend\u001b[0m\u001b[0;34m(\u001b[0m\u001b[0mgatherBattingStats\u001b[0m\u001b[0;34m(\u001b[0m\u001b[0mhomeTeam\u001b[0m\u001b[0;34m,\u001b[0m \u001b[0mawayTeam\u001b[0m\u001b[0;34m)\u001b[0m\u001b[0;34m[\u001b[0m\u001b[0;36m0\u001b[0m\u001b[0;34m]\u001b[0m\u001b[0;34m)\u001b[0m\u001b[0;34m\u001b[0m\u001b[0;34m\u001b[0m\u001b[0m\n\u001b[0m\u001b[1;32m      5\u001b[0m     \u001b[0moutput\u001b[0m\u001b[0;34m.\u001b[0m\u001b[0mappend\u001b[0m\u001b[0;34m(\u001b[0m\u001b[0mgatherBattingStats\u001b[0m\u001b[0;34m(\u001b[0m\u001b[0mhomeTeam\u001b[0m\u001b[0;34m,\u001b[0m \u001b[0mawayTeam\u001b[0m\u001b[0;34m)\u001b[0m\u001b[0;34m[\u001b[0m\u001b[0;36m1\u001b[0m\u001b[0;34m]\u001b[0m\u001b[0;34m)\u001b[0m\u001b[0;34m\u001b[0m\u001b[0;34m\u001b[0m\u001b[0m\n\u001b[1;32m      6\u001b[0m     \u001b[0moutput\u001b[0m\u001b[0;34m.\u001b[0m\u001b[0mappend\u001b[0m\u001b[0;34m(\u001b[0m\u001b[0mgatherBattingStats\u001b[0m\u001b[0;34m(\u001b[0m\u001b[0mhomeTeam\u001b[0m\u001b[0;34m,\u001b[0m \u001b[0mawayTeam\u001b[0m\u001b[0;34m)\u001b[0m\u001b[0;34m[\u001b[0m\u001b[0;36m2\u001b[0m\u001b[0;34m]\u001b[0m\u001b[0;34m)\u001b[0m\u001b[0;34m\u001b[0m\u001b[0;34m\u001b[0m\u001b[0m\n",
      "\u001b[0;31mTypeError\u001b[0m: 'NoneType' object is not subscriptable"
     ]
    }
   ],
   "source": [
    "url_batting = \"https://www.espn.com/mlb/stats/team\"\n",
    "page = requests.get(url_batting)\n",
    "soup = BeautifulSoup(page.text, 'html.parser')\n",
    "tableRows = soup.find_all('tr', attrs = {'class': \"Table__TR Table__TR--sm Table__even\"})\n",
    "def findBStats(index): \n",
    "    count = 0\n",
    "    teams = []\n",
    "    stats = []\n",
    "    batting = []\n",
    "    for row in tableRows: \n",
    "        if count == (index + 30): \n",
    "            teams.append(row)\n",
    "            for team in teams: \n",
    "                stats.append(team.find_all('td'))\n",
    "                for stat in stats:\n",
    "                    batting.append(float(stat[7].text))\n",
    "                    batting.append(float(stat[14].text))\n",
    "                    batting.append(float(stat[12].text))\n",
    "                    return batting\n",
    "        count = count + 1\n",
    "    count = 0\n",
    "def gatherBattingStats(homeTeam, awayTeam): \n",
    "    homeIndex = teamBatting.get(homeTeam)\n",
    "    awayIndex = teamBatting.get(awayTeam)\n",
    "    finalStats = []\n",
    "    finalStats.append(findBStats(homeIndex)[0] - findBStats(awayIndex)[0])\n",
    "    finalStats.append(findBStats(homeIndex)[1] - findBStats(awayIndex)[1])\n",
    "    finalStats.append(findBStats(homeIndex)[2] - findBStats(awayIndex)[2])\n",
    "    print(finalStats)\n",
    "gatherStats(\"Atlanta Braves\", \"Houston Astros\")"
   ]
  },
  {
   "cell_type": "code",
   "execution_count": 307,
   "metadata": {},
   "outputs": [
    {
     "name": "stdout",
     "output_type": "stream",
     "text": [
      "14 12\n",
      "4.41\n",
      "4.31\n"
     ]
    },
    {
     "data": {
      "text/plain": [
       "[0.10000000000000053]"
      ]
     },
     "execution_count": 307,
     "metadata": {},
     "output_type": "execute_result"
    }
   ],
   "source": [
    "url_pitching = \"https://www.espn.com/mlb/stats/team/_/view/pitching\"\n",
    "page = requests.get(url_pitching)\n",
    "soup = BeautifulSoup(page.text, 'html.parser')\n",
    "tableRows = soup.find_all('tr', attrs = {'class': \"Table__TR Table__TR--sm Table__even\"})\n",
    "def findPStats(index): \n",
    "    count = 0\n",
    "    teams = []\n",
    "    stats = []\n",
    "    output = []\n",
    "    for row in tableRows: \n",
    "        if count == (index + 30): \n",
    "            teams.append(row)\n",
    "            for team in teams: \n",
    "                stats.append(team.find_all('td'))\n",
    "                for stat in stats:\n",
    "                    print(stat[3].text)\n",
    "                    output.append(float(stat[3].text))\n",
    "                    return output\n",
    "        count = count + 1\n",
    "    count = 0\n",
    "def gatherPitchingStats(homeTeam, awayTeam): \n",
    "    homeIndex = teamPitching.get(homeTeam)\n",
    "    awayIndex = teamPitching.get(awayTeam)\n",
    "    print(homeIndex, awayIndex)\n",
    "    finalStats = []\n",
    "    finalStats.append(findPStats(homeIndex)[0] - findPStats(awayIndex)[0])\n",
    "    return (finalStats)\n",
    "\n",
    "gatherPitchingstats(\"Atlanta Braves\", \"Houston Astros\")"
   ]
  },
  {
   "cell_type": "code",
   "execution_count": null,
   "metadata": {},
   "outputs": [],
   "source": []
  }
 ],
 "metadata": {
  "kernelspec": {
   "display_name": "Python 3",
   "language": "python",
   "name": "python3"
  },
  "language_info": {
   "codemirror_mode": {
    "name": "ipython",
    "version": 3
   },
   "file_extension": ".py",
   "mimetype": "text/x-python",
   "name": "python",
   "nbconvert_exporter": "python",
   "pygments_lexer": "ipython3",
   "version": "3.8.3"
  }
 },
 "nbformat": 4,
 "nbformat_minor": 4
}
